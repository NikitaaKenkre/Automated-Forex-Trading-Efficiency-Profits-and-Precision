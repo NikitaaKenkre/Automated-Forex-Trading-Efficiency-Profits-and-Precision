{
 "cells": [
  {
   "cell_type": "code",
   "execution_count": 1,
   "id": "53ac476e-4a05-4ef9-b298-06821ac67d78",
   "metadata": {},
   "outputs": [],
   "source": [
    "# FINAL PROJECT DATA ENGINEERING (Long Trade Program Script)\n",
    "# Author - Priya Kundu and Nikitaa Kenkre\n",
    "# Date of Program Run - 11th May 2023 (3pm to 7:30am)\n",
    "# Date of Presentation - 12th May 2023 (1pm)\n",
    "# Semester Spring 2023\n",
    "# By Professor Carlos De Oliveira"
   ]
  },
  {
   "cell_type": "markdown",
   "id": "20240ac1-9932-448a-81b9-9d8a5d279e56",
   "metadata": {},
   "source": [
    "# Importing Packages and Setting Parameters"
   ]
  },
  {
   "cell_type": "code",
   "execution_count": 2,
   "id": "094e20c1-adab-47cf-a5ae-b277a8460bbd",
   "metadata": {},
   "outputs": [],
   "source": [
    "import oandapyV20\n",
    "import oandapyV20.endpoints.orders as orders\n",
    "import oandapyV20.endpoints.pricing as pricing\n",
    "from oandapyV20.contrib.requests import MarketOrderRequest\n",
    "from oandapyV20 import API\n",
    "from oandapyV20.exceptions import V20Error\n",
    "import pandas as pd\n",
    "import datetime as dt\n",
    "import time\n",
    "from datetime import datetime"
   ]
  },
  {
   "cell_type": "code",
   "execution_count": 3,
   "id": "997141ea-392c-473d-a478-d3358b508f7b",
   "metadata": {},
   "outputs": [],
   "source": [
    "# OANDA account details\n",
    "access_token = \"9a1d828e9ba37770b2cba4e452889987-ab8fd896349ffa39f6b962eacafb7ac9\"\n",
    "accountID = \"101-001-25499777-002\"\n",
    "#api = oandapyV20.API(access_token=access_token, environment=\"practice\")\n",
    "try:\n",
    "    client = oandapyV20.API(access_token=access_token, environment=\"practice\")\n",
    "except V20Error as e:\n",
    "    print(\"Error: {}\".format(e))"
   ]
  },
  {
   "cell_type": "code",
   "execution_count": 4,
   "id": "27037f90-1d37-4ec3-b95c-6f85e9efd195",
   "metadata": {},
   "outputs": [],
   "source": [
    "# specify the instrument to trade\n",
    "instrument = \"EUR_CHF\""
   ]
  },
  {
   "cell_type": "code",
   "execution_count": 5,
   "id": "09265338-9ce9-41fd-a11b-c94bfa39ece5",
   "metadata": {},
   "outputs": [],
   "source": [
    "# set the order parameters\n",
    "order_quantity = 1000 # start with 10k units\n",
    "total_order_quantity = 100000 # the total order quantity\n",
    "current_executed_quantity = 0 # keep track of how many units have been executed so far\n",
    "non_executed_quantity = 0 # keep track of the units that were not executed in the previous window\n",
    "average_execution_price = 0 # initialize the average execution price to 0\n",
    "total_average_execution_price = 0 # initialize the total average execution price to 0"
   ]
  },
  {
   "cell_type": "code",
   "execution_count": 6,
   "id": "fc379768-5299-4c98-bb2a-081d5f19eec5",
   "metadata": {},
   "outputs": [],
   "source": [
    "# setting the required time frames\n",
    "first_execution_start_time = dt.datetime.now().replace(hour=15, minute=0, second=0, microsecond=0)\n",
    "first_execution_end_time = dt.datetime.now().replace(hour=17, minute=0, second=0, microsecond=0)\n",
    "\n",
    "second_execution_start_time = dt.datetime.now().replace(hour=19, minute=0, second=0, microsecond=0)\n",
    "second_execution_end_time = dt.datetime.now().replace(hour=22, minute=0, second=0, microsecond=0)\n",
    "\n",
    "third_execution_start_time = dt.datetime.now().replace(hour=23, minute=0, second=0, microsecond=0)\n",
    "third_execution_end_time = dt.datetime.now().replace(hour=1, minute=0, second=0, microsecond=0) + dt.timedelta(days=1) # add one day to the end time\n",
    "\n",
    "fourth_execution_start_time = dt.datetime.now().replace(hour=3, minute=0, second=0, microsecond=0) + dt.timedelta(days=1) # add one day to the start time\n",
    "fourth_execution_end_time = dt.datetime.now().replace(hour=6, minute=0, second=0, microsecond=0) + dt.timedelta(days=1) # add one day to the end time"
   ]
  },
  {
   "cell_type": "code",
   "execution_count": 7,
   "id": "85d8ecb6-fe95-4065-9283-41f754ffc256",
   "metadata": {},
   "outputs": [],
   "source": [
    "# define a function to execute orders\n",
    "def execute_order(units, instrument, side, trades):\n",
    "    # create a market order request\n",
    "    direction = 1 if side == \"BUY\" else -1\n",
    "    mo = MarketOrderRequest(\n",
    "        instrument=instrument,\n",
    "        units=str(int(units)*direction),\n",
    "        takeProfitOnFill=None,\n",
    "        stopLossOnFill=None,\n",
    "    )\n",
    "    # send the order request\n",
    "    r = orders.OrderCreate(accountID, data=mo.data)\n",
    "    response = client.request(r)\n",
    "    if \"orderFillTransaction\" in response:\n",
    "        trades.append({\n",
    "            \"Timestamp\": dt.datetime.now(), \n",
    "            \"Order_ID\": float(response[\"orderFillTransaction\"][\"orderID\"]),\n",
    "            \"Instrument\": instrument,\n",
    "            \"Price\": float(response[\"orderFillTransaction\"][\"price\"]),\n",
    "            \"Units\": int(units),\n",
    "            \"Side\": side\n",
    "        })\n",
    "    else:\n",
    "        # Handle the case where the order is not filled\n",
    "        if \"orderCancelTransaction\" in response:\n",
    "            print(\"Order canceled due to:\", response[\"orderCancelTransaction\"][\"reason\"])\n",
    "        else:\n",
    "            print(\"No cancel transaction found.\")"
   ]
  },
  {
   "cell_type": "code",
   "execution_count": 8,
   "id": "49057c04-8017-4821-a5c1-28f4d17b156b",
   "metadata": {},
   "outputs": [],
   "source": [
    "# make a function to get price that can be used to compare with the average price before execution takes place\n",
    "def get_rate():\n",
    "    price_request = pricing.PricingInfo(accountID=accountID, params={'instruments': instrument})\n",
    "    response = client.request(price_request)\n",
    "    return float(response['prices'][0]['asks'][0]['price'])"
   ]
  },
  {
   "cell_type": "markdown",
   "id": "b7ba5d38-cac2-4e7d-9a03-cc7bea14b972",
   "metadata": {},
   "source": [
    "# First Interval"
   ]
  },
  {
   "cell_type": "code",
   "execution_count": 9,
   "id": "99cf19c4-5251-404e-8ed8-8840313a9b54",
   "metadata": {},
   "outputs": [
    {
     "name": "stdout",
     "output_type": "stream",
     "text": [
      "Successful execution for 0 th interval\n",
      "Successful execution for 1 th interval\n",
      "Successful execution for 2 th interval\n",
      "Successful execution for 3 th interval\n",
      "Successful execution for 4 th interval\n",
      "Successful execution for 5 th interval\n",
      "Successful execution for 6 th interval\n",
      "Successful execution for 7 th interval\n",
      "Successful execution for 8 th interval\n",
      "Successful execution for 9 th interval\n",
      "Successful execution for 10 th interval\n",
      "Successful execution for 11 th interval\n",
      "Successful execution for 12 th interval\n",
      "Successful execution for 13 th interval\n",
      "Successful execution for 14 th interval\n",
      "Successful execution for 15 th interval\n",
      "Successful execution for 16 th interval\n",
      "Successful execution for 17 th interval\n",
      "Successful execution for 18 th interval\n",
      "Successful execution for 19 th interval\n"
     ]
    }
   ],
   "source": [
    "# execute the first window\n",
    "while dt.datetime.now() < first_execution_start_time:\n",
    "    time.sleep(1)\n",
    "\n",
    "batch1_trades = []  # create a list to store the prices\n",
    "while dt.datetime.now() >= first_execution_start_time and dt.datetime.now() <= first_execution_end_time:\n",
    "    for i in range(20): # 20 iterations to execute 10k units every 6 minutes\n",
    "        if current_executed_quantity < total_order_quantity * 0.2:       \n",
    "            response = execute_order(order_quantity, instrument, \"BUY\", batch1_trades)\n",
    "            current_executed_quantity += order_quantity\n",
    "        else:\n",
    "            break\n",
    "        time.sleep(360) # wait for 6 minutes between orders\n",
    "        print(\"Successful execution for\", i, \"th interval\") "
   ]
  },
  {
   "cell_type": "code",
   "execution_count": 10,
   "id": "3ad5aa20-353b-470d-998c-dc2f64d15204",
   "metadata": {},
   "outputs": [],
   "source": [
    "# convert the list of prices into a DataFrame\n",
    "df1 = pd.DataFrame(batch1_trades)"
   ]
  },
  {
   "cell_type": "code",
   "execution_count": 11,
   "id": "e96e4039-7aa0-4ecb-949f-6e9f61435617",
   "metadata": {},
   "outputs": [
    {
     "data": {
      "text/html": [
       "<div>\n",
       "<style scoped>\n",
       "    .dataframe tbody tr th:only-of-type {\n",
       "        vertical-align: middle;\n",
       "    }\n",
       "\n",
       "    .dataframe tbody tr th {\n",
       "        vertical-align: top;\n",
       "    }\n",
       "\n",
       "    .dataframe thead th {\n",
       "        text-align: right;\n",
       "    }\n",
       "</style>\n",
       "<table border=\"1\" class=\"dataframe\">\n",
       "  <thead>\n",
       "    <tr style=\"text-align: right;\">\n",
       "      <th></th>\n",
       "      <th>Timestamp</th>\n",
       "      <th>Order_ID</th>\n",
       "      <th>Instrument</th>\n",
       "      <th>Price</th>\n",
       "      <th>Units</th>\n",
       "      <th>Side</th>\n",
       "    </tr>\n",
       "  </thead>\n",
       "  <tbody>\n",
       "    <tr>\n",
       "      <th>0</th>\n",
       "      <td>2023-05-11 15:00:01.081373</td>\n",
       "      <td>652.0</td>\n",
       "      <td>EUR_CHF</td>\n",
       "      <td>0.97664</td>\n",
       "      <td>1000</td>\n",
       "      <td>BUY</td>\n",
       "    </tr>\n",
       "    <tr>\n",
       "      <th>1</th>\n",
       "      <td>2023-05-11 15:06:01.196159</td>\n",
       "      <td>658.0</td>\n",
       "      <td>EUR_CHF</td>\n",
       "      <td>0.97667</td>\n",
       "      <td>1000</td>\n",
       "      <td>BUY</td>\n",
       "    </tr>\n",
       "    <tr>\n",
       "      <th>2</th>\n",
       "      <td>2023-05-11 15:12:01.289263</td>\n",
       "      <td>664.0</td>\n",
       "      <td>EUR_CHF</td>\n",
       "      <td>0.97665</td>\n",
       "      <td>1000</td>\n",
       "      <td>BUY</td>\n",
       "    </tr>\n",
       "    <tr>\n",
       "      <th>3</th>\n",
       "      <td>2023-05-11 15:18:01.391696</td>\n",
       "      <td>670.0</td>\n",
       "      <td>EUR_CHF</td>\n",
       "      <td>0.97653</td>\n",
       "      <td>1000</td>\n",
       "      <td>BUY</td>\n",
       "    </tr>\n",
       "    <tr>\n",
       "      <th>4</th>\n",
       "      <td>2023-05-11 15:24:01.478402</td>\n",
       "      <td>676.0</td>\n",
       "      <td>EUR_CHF</td>\n",
       "      <td>0.97646</td>\n",
       "      <td>1000</td>\n",
       "      <td>BUY</td>\n",
       "    </tr>\n",
       "    <tr>\n",
       "      <th>5</th>\n",
       "      <td>2023-05-11 15:30:01.556785</td>\n",
       "      <td>682.0</td>\n",
       "      <td>EUR_CHF</td>\n",
       "      <td>0.97635</td>\n",
       "      <td>1000</td>\n",
       "      <td>BUY</td>\n",
       "    </tr>\n",
       "    <tr>\n",
       "      <th>6</th>\n",
       "      <td>2023-05-11 15:36:01.657372</td>\n",
       "      <td>688.0</td>\n",
       "      <td>EUR_CHF</td>\n",
       "      <td>0.97626</td>\n",
       "      <td>1000</td>\n",
       "      <td>BUY</td>\n",
       "    </tr>\n",
       "    <tr>\n",
       "      <th>7</th>\n",
       "      <td>2023-05-11 15:42:01.752176</td>\n",
       "      <td>694.0</td>\n",
       "      <td>EUR_CHF</td>\n",
       "      <td>0.97627</td>\n",
       "      <td>1000</td>\n",
       "      <td>BUY</td>\n",
       "    </tr>\n",
       "    <tr>\n",
       "      <th>8</th>\n",
       "      <td>2023-05-11 15:48:01.860592</td>\n",
       "      <td>700.0</td>\n",
       "      <td>EUR_CHF</td>\n",
       "      <td>0.97630</td>\n",
       "      <td>1000</td>\n",
       "      <td>BUY</td>\n",
       "    </tr>\n",
       "    <tr>\n",
       "      <th>9</th>\n",
       "      <td>2023-05-11 15:54:01.955023</td>\n",
       "      <td>706.0</td>\n",
       "      <td>EUR_CHF</td>\n",
       "      <td>0.97619</td>\n",
       "      <td>1000</td>\n",
       "      <td>BUY</td>\n",
       "    </tr>\n",
       "    <tr>\n",
       "      <th>10</th>\n",
       "      <td>2023-05-11 16:00:02.060564</td>\n",
       "      <td>712.0</td>\n",
       "      <td>EUR_CHF</td>\n",
       "      <td>0.97647</td>\n",
       "      <td>1000</td>\n",
       "      <td>BUY</td>\n",
       "    </tr>\n",
       "    <tr>\n",
       "      <th>11</th>\n",
       "      <td>2023-05-11 16:06:02.152803</td>\n",
       "      <td>718.0</td>\n",
       "      <td>EUR_CHF</td>\n",
       "      <td>0.97599</td>\n",
       "      <td>1000</td>\n",
       "      <td>BUY</td>\n",
       "    </tr>\n",
       "    <tr>\n",
       "      <th>12</th>\n",
       "      <td>2023-05-11 16:12:02.260651</td>\n",
       "      <td>724.0</td>\n",
       "      <td>EUR_CHF</td>\n",
       "      <td>0.97602</td>\n",
       "      <td>1000</td>\n",
       "      <td>BUY</td>\n",
       "    </tr>\n",
       "    <tr>\n",
       "      <th>13</th>\n",
       "      <td>2023-05-11 16:18:02.329229</td>\n",
       "      <td>730.0</td>\n",
       "      <td>EUR_CHF</td>\n",
       "      <td>0.97608</td>\n",
       "      <td>1000</td>\n",
       "      <td>BUY</td>\n",
       "    </tr>\n",
       "    <tr>\n",
       "      <th>14</th>\n",
       "      <td>2023-05-11 16:24:02.404695</td>\n",
       "      <td>736.0</td>\n",
       "      <td>EUR_CHF</td>\n",
       "      <td>0.97618</td>\n",
       "      <td>1000</td>\n",
       "      <td>BUY</td>\n",
       "    </tr>\n",
       "    <tr>\n",
       "      <th>15</th>\n",
       "      <td>2023-05-11 16:30:02.505509</td>\n",
       "      <td>741.0</td>\n",
       "      <td>EUR_CHF</td>\n",
       "      <td>0.97594</td>\n",
       "      <td>1000</td>\n",
       "      <td>BUY</td>\n",
       "    </tr>\n",
       "    <tr>\n",
       "      <th>16</th>\n",
       "      <td>2023-05-11 16:36:02.614450</td>\n",
       "      <td>747.0</td>\n",
       "      <td>EUR_CHF</td>\n",
       "      <td>0.97586</td>\n",
       "      <td>1000</td>\n",
       "      <td>BUY</td>\n",
       "    </tr>\n",
       "    <tr>\n",
       "      <th>17</th>\n",
       "      <td>2023-05-11 16:42:02.738548</td>\n",
       "      <td>753.0</td>\n",
       "      <td>EUR_CHF</td>\n",
       "      <td>0.97606</td>\n",
       "      <td>1000</td>\n",
       "      <td>BUY</td>\n",
       "    </tr>\n",
       "    <tr>\n",
       "      <th>18</th>\n",
       "      <td>2023-05-11 16:48:02.824661</td>\n",
       "      <td>759.0</td>\n",
       "      <td>EUR_CHF</td>\n",
       "      <td>0.97613</td>\n",
       "      <td>1000</td>\n",
       "      <td>BUY</td>\n",
       "    </tr>\n",
       "    <tr>\n",
       "      <th>19</th>\n",
       "      <td>2023-05-11 16:54:02.918207</td>\n",
       "      <td>765.0</td>\n",
       "      <td>EUR_CHF</td>\n",
       "      <td>0.97620</td>\n",
       "      <td>1000</td>\n",
       "      <td>BUY</td>\n",
       "    </tr>\n",
       "  </tbody>\n",
       "</table>\n",
       "</div>"
      ],
      "text/plain": [
       "                    Timestamp  Order_ID Instrument    Price  Units Side\n",
       "0  2023-05-11 15:00:01.081373     652.0    EUR_CHF  0.97664   1000  BUY\n",
       "1  2023-05-11 15:06:01.196159     658.0    EUR_CHF  0.97667   1000  BUY\n",
       "2  2023-05-11 15:12:01.289263     664.0    EUR_CHF  0.97665   1000  BUY\n",
       "3  2023-05-11 15:18:01.391696     670.0    EUR_CHF  0.97653   1000  BUY\n",
       "4  2023-05-11 15:24:01.478402     676.0    EUR_CHF  0.97646   1000  BUY\n",
       "5  2023-05-11 15:30:01.556785     682.0    EUR_CHF  0.97635   1000  BUY\n",
       "6  2023-05-11 15:36:01.657372     688.0    EUR_CHF  0.97626   1000  BUY\n",
       "7  2023-05-11 15:42:01.752176     694.0    EUR_CHF  0.97627   1000  BUY\n",
       "8  2023-05-11 15:48:01.860592     700.0    EUR_CHF  0.97630   1000  BUY\n",
       "9  2023-05-11 15:54:01.955023     706.0    EUR_CHF  0.97619   1000  BUY\n",
       "10 2023-05-11 16:00:02.060564     712.0    EUR_CHF  0.97647   1000  BUY\n",
       "11 2023-05-11 16:06:02.152803     718.0    EUR_CHF  0.97599   1000  BUY\n",
       "12 2023-05-11 16:12:02.260651     724.0    EUR_CHF  0.97602   1000  BUY\n",
       "13 2023-05-11 16:18:02.329229     730.0    EUR_CHF  0.97608   1000  BUY\n",
       "14 2023-05-11 16:24:02.404695     736.0    EUR_CHF  0.97618   1000  BUY\n",
       "15 2023-05-11 16:30:02.505509     741.0    EUR_CHF  0.97594   1000  BUY\n",
       "16 2023-05-11 16:36:02.614450     747.0    EUR_CHF  0.97586   1000  BUY\n",
       "17 2023-05-11 16:42:02.738548     753.0    EUR_CHF  0.97606   1000  BUY\n",
       "18 2023-05-11 16:48:02.824661     759.0    EUR_CHF  0.97613   1000  BUY\n",
       "19 2023-05-11 16:54:02.918207     765.0    EUR_CHF  0.97620   1000  BUY"
      ]
     },
     "execution_count": 11,
     "metadata": {},
     "output_type": "execute_result"
    }
   ],
   "source": [
    "df1"
   ]
  },
  {
   "cell_type": "code",
   "execution_count": 12,
   "id": "77409f2c-2872-4c2d-9445-4a81e3d3723d",
   "metadata": {},
   "outputs": [],
   "source": [
    "average_execution_price1 = df1['Price'].sum() / len(df1)"
   ]
  },
  {
   "cell_type": "code",
   "execution_count": 13,
   "id": "d43c910a-7744-4bcf-9d6c-d1ce1cfa8241",
   "metadata": {},
   "outputs": [
    {
     "data": {
      "text/plain": [
       "0.9762625"
      ]
     },
     "execution_count": 13,
     "metadata": {},
     "output_type": "execute_result"
    }
   ],
   "source": [
    "average_execution_price1"
   ]
  },
  {
   "cell_type": "code",
   "execution_count": 14,
   "id": "8c694223-157a-4318-9e23-dee9ca1b05ab",
   "metadata": {},
   "outputs": [
    {
     "data": {
      "text/plain": [
       "20000"
      ]
     },
     "execution_count": 14,
     "metadata": {},
     "output_type": "execute_result"
    }
   ],
   "source": [
    "current_executed_quantity"
   ]
  },
  {
   "cell_type": "markdown",
   "id": "719bc0e4-9bef-44ce-b59c-5038e37fe944",
   "metadata": {},
   "source": [
    "# Second Interval"
   ]
  },
  {
   "cell_type": "code",
   "execution_count": 15,
   "id": "8bb80516-c6ad-4625-8d67-52257d94ca2d",
   "metadata": {},
   "outputs": [
    {
     "name": "stdout",
     "output_type": "stream",
     "text": [
      "Trade did not take place as Price > Average Price\n",
      "Successful execution for 0 th interval\n",
      "Trade did not take place as Price > Average Price\n",
      "Successful execution for 1 th interval\n",
      "Trade did not take place as Price > Average Price\n",
      "Successful execution for 2 th interval\n",
      "Trade did not take place as Price > Average Price\n",
      "Successful execution for 3 th interval\n",
      "Trade did not take place as Price > Average Price\n",
      "Successful execution for 4 th interval\n",
      "Trade did not take place as Price > Average Price\n",
      "Successful execution for 5 th interval\n",
      "Trade did not take place as Price > Average Price\n",
      "Successful execution for 6 th interval\n",
      "Trade did not take place as Price > Average Price\n",
      "Successful execution for 7 th interval\n",
      "Trade did not take place as Price > Average Price\n",
      "Successful execution for 8 th interval\n",
      "Trade did not take place as Price > Average Price\n",
      "Successful execution for 9 th interval\n",
      "Trade did not take place as Price > Average Price\n",
      "Successful execution for 10 th interval\n",
      "Trade did not take place as Price > Average Price\n",
      "Successful execution for 11 th interval\n",
      "Trade did not take place as Price > Average Price\n",
      "Successful execution for 12 th interval\n",
      "Trade did not take place as Price > Average Price\n",
      "Successful execution for 13 th interval\n",
      "Trade did not take place as Price > Average Price\n",
      "Successful execution for 14 th interval\n",
      "Trade did not take place as Price > Average Price\n",
      "Successful execution for 15 th interval\n",
      "Trade did not take place as Price > Average Price\n",
      "Successful execution for 16 th interval\n",
      "Trade did not take place as Price > Average Price\n",
      "Successful execution for 17 th interval\n",
      "Trade did not take place as Price > Average Price\n",
      "Successful execution for 18 th interval\n",
      "Trade did not take place as Price > Average Price\n",
      "Successful execution for 19 th interval\n",
      "Trade did not take place as Price > Average Price\n",
      "Successful execution for 20 th interval\n",
      "Trade did not take place as Price > Average Price\n",
      "Successful execution for 21 th interval\n",
      "Trade did not take place as Price > Average Price\n",
      "Successful execution for 22 th interval\n",
      "Trade did not take place as Price > Average Price\n",
      "Successful execution for 23 th interval\n",
      "Trade did not take place as Price > Average Price\n",
      "Successful execution for 24 th interval\n",
      "Trade did not take place as Price > Average Price\n",
      "Successful execution for 25 th interval\n",
      "Trade did not take place as Price > Average Price\n",
      "Successful execution for 26 th interval\n",
      "Trade did not take place as Price > Average Price\n",
      "Successful execution for 27 th interval\n",
      "Trade did not take place as Price > Average Price\n",
      "Successful execution for 28 th interval\n",
      "Trade did not take place as Price > Average Price\n",
      "Successful execution for 29 th interval\n"
     ]
    }
   ],
   "source": [
    "# execute the second window\n",
    "while dt.datetime.now() < second_execution_start_time:\n",
    "    time.sleep(1)\n",
    "\n",
    "batch2_trades = []  # create a list to store the prices\n",
    "\n",
    "while dt.datetime.now() >= second_execution_start_time and dt.datetime.now() <= second_execution_end_time:\n",
    "    for i in range(30): # 30 iterations to execute 10k units every 6 minutes\n",
    "        if current_executed_quantity < total_order_quantity * 0.5:\n",
    "            if get_rate() >= average_execution_price1:\n",
    "                execute_order(order_quantity, instrument, \"BUY\", batch2_trades)\n",
    "                current_executed_quantity += order_quantity\n",
    "                print(\"Trade took place!\")\n",
    "            else:\n",
    "                print(\"Trade did not take place as Price > Average Price\")\n",
    "        else:\n",
    "            break\n",
    "        time.sleep(360) # wait for 6 minutes between orders\n",
    "        print(\"Successful execution for\", i, \"th interval\")"
   ]
  },
  {
   "cell_type": "code",
   "execution_count": 16,
   "id": "32fd340b-e712-4ab2-8702-f4e114e9ff3e",
   "metadata": {},
   "outputs": [],
   "source": [
    "# convert the list of prices into a DataFrame\n",
    "df2 = pd.DataFrame(batch2_trades)"
   ]
  },
  {
   "cell_type": "code",
   "execution_count": 17,
   "id": "f5759599-8da2-46e3-a224-710c36c195ae",
   "metadata": {},
   "outputs": [
    {
     "data": {
      "text/html": [
       "<div>\n",
       "<style scoped>\n",
       "    .dataframe tbody tr th:only-of-type {\n",
       "        vertical-align: middle;\n",
       "    }\n",
       "\n",
       "    .dataframe tbody tr th {\n",
       "        vertical-align: top;\n",
       "    }\n",
       "\n",
       "    .dataframe thead th {\n",
       "        text-align: right;\n",
       "    }\n",
       "</style>\n",
       "<table border=\"1\" class=\"dataframe\">\n",
       "  <thead>\n",
       "    <tr style=\"text-align: right;\">\n",
       "      <th></th>\n",
       "    </tr>\n",
       "  </thead>\n",
       "  <tbody>\n",
       "  </tbody>\n",
       "</table>\n",
       "</div>"
      ],
      "text/plain": [
       "Empty DataFrame\n",
       "Columns: []\n",
       "Index: []"
      ]
     },
     "execution_count": 17,
     "metadata": {},
     "output_type": "execute_result"
    }
   ],
   "source": [
    "df2"
   ]
  },
  {
   "cell_type": "code",
   "execution_count": 18,
   "id": "b6c90bbf-4ad5-48cd-8011-28181a8ec5ab",
   "metadata": {},
   "outputs": [],
   "source": [
    "# concatenate the two dataframes vertically\n",
    "new_df = pd.concat([df1, df2], axis=0)"
   ]
  },
  {
   "cell_type": "code",
   "execution_count": 19,
   "id": "f4e79cb5-b512-4c63-b474-edd3ac747280",
   "metadata": {},
   "outputs": [
    {
     "data": {
      "text/plain": [
       "0.9762625"
      ]
     },
     "execution_count": 19,
     "metadata": {},
     "output_type": "execute_result"
    }
   ],
   "source": [
    "# calculate the total average execution price\n",
    "average_execution_price2 = new_df['Price'].sum() / len(new_df)\n",
    "\n",
    "average_execution_price2"
   ]
  },
  {
   "cell_type": "code",
   "execution_count": 20,
   "id": "43066993-39ea-4294-b615-4ad0fb557218",
   "metadata": {},
   "outputs": [
    {
     "data": {
      "text/plain": [
       "20000"
      ]
     },
     "execution_count": 20,
     "metadata": {},
     "output_type": "execute_result"
    }
   ],
   "source": [
    "current_executed_quantity"
   ]
  },
  {
   "cell_type": "code",
   "execution_count": 21,
   "id": "6930fb12-7bea-4c5c-b7a5-add2646b3e67",
   "metadata": {},
   "outputs": [
    {
     "data": {
      "text/plain": [
       "30000.0"
      ]
     },
     "execution_count": 21,
     "metadata": {},
     "output_type": "execute_result"
    }
   ],
   "source": [
    "non_executed_quantity2 = total_order_quantity * 0.5 - current_executed_quantity\n",
    "\n",
    "non_executed_quantity2"
   ]
  },
  {
   "cell_type": "markdown",
   "id": "5fdfe07c-360f-4b90-9176-fe89d2cb9712",
   "metadata": {},
   "source": [
    "# Third Interval"
   ]
  },
  {
   "cell_type": "code",
   "execution_count": 23,
   "id": "7928a57d-b297-4736-957a-627c3b8946d3",
   "metadata": {},
   "outputs": [
    {
     "name": "stdout",
     "output_type": "stream",
     "text": [
      "Trade did not take place as Price > Average Price\n",
      "Successful execution for 0 th interval\n",
      "Trade did not take place as Price > Average Price\n",
      "Successful execution for 1 th interval\n",
      "Trade did not take place as Price > Average Price\n",
      "Successful execution for 2 th interval\n",
      "Trade did not take place as Price > Average Price\n",
      "Successful execution for 3 th interval\n",
      "Trade did not take place as Price > Average Price\n",
      "Successful execution for 4 th interval\n",
      "Trade did not take place as Price > Average Price\n",
      "Successful execution for 5 th interval\n",
      "Trade did not take place as Price > Average Price\n",
      "Successful execution for 6 th interval\n",
      "Trade did not take place as Price > Average Price\n",
      "Successful execution for 7 th interval\n",
      "Trade did not take place as Price > Average Price\n",
      "Successful execution for 8 th interval\n",
      "Trade did not take place as Price > Average Price\n",
      "Successful execution for 9 th interval\n",
      "Trade did not take place as Price > Average Price\n",
      "Successful execution for 10 th interval\n",
      "Trade did not take place as Price > Average Price\n",
      "Successful execution for 11 th interval\n",
      "Trade did not take place as Price > Average Price\n",
      "Successful execution for 12 th interval\n",
      "Trade did not take place as Price > Average Price\n",
      "Successful execution for 13 th interval\n",
      "Trade did not take place as Price > Average Price\n",
      "Successful execution for 14 th interval\n",
      "Trade did not take place as Price > Average Price\n",
      "Successful execution for 15 th interval\n",
      "Trade did not take place as Price > Average Price\n",
      "Successful execution for 16 th interval\n",
      "Trade did not take place as Price > Average Price\n",
      "Successful execution for 17 th interval\n",
      "Trade did not take place as Price > Average Price\n",
      "Successful execution for 18 th interval\n",
      "Trade did not take place as Price > Average Price\n",
      "Successful execution for 19 th interval\n"
     ]
    }
   ],
   "source": [
    "# execute the third window\n",
    "while dt.datetime.now() < third_execution_start_time:\n",
    "    time.sleep(1)\n",
    "\n",
    "batch3_trades = []  # create a list to store the prices\n",
    "\n",
    "while dt.datetime.now() >= third_execution_start_time and dt.datetime.now() <= third_execution_end_time:\n",
    "    # recalculate the number of units to be executed\n",
    "    order_quantity = int((non_executed_quantity2 + (total_order_quantity * 0.2)) / 20)\n",
    "    for i in range(20): # 20 iterations to execute every 6 minutes\n",
    "        if current_executed_quantity < total_order_quantity * 0.7:\n",
    "            if get_rate() >= average_execution_price2:\n",
    "                response = execute_order(order_quantity, instrument, \"BUY\", batch3_trades)\n",
    "                current_executed_quantity += order_quantity\n",
    "                print(\"Trade took place!\")\n",
    "            else:\n",
    "                print(\"Trade did not take place as Price > Average Price\")\n",
    "        else:\n",
    "            break\n",
    "        time.sleep(360) # wait for 6 minutes between orders\n",
    "        print(\"Successful execution for\", i, \"th interval\")"
   ]
  },
  {
   "cell_type": "code",
   "execution_count": 24,
   "id": "8e43216a-85e3-49b3-a92a-e4dce814abe6",
   "metadata": {},
   "outputs": [],
   "source": [
    "# convert the list of prices into a DataFrame\n",
    "df3 = pd.DataFrame(batch3_trades)"
   ]
  },
  {
   "cell_type": "code",
   "execution_count": 25,
   "id": "f44480fc-f103-4837-a5ef-3ce558f48124",
   "metadata": {},
   "outputs": [
    {
     "data": {
      "text/html": [
       "<div>\n",
       "<style scoped>\n",
       "    .dataframe tbody tr th:only-of-type {\n",
       "        vertical-align: middle;\n",
       "    }\n",
       "\n",
       "    .dataframe tbody tr th {\n",
       "        vertical-align: top;\n",
       "    }\n",
       "\n",
       "    .dataframe thead th {\n",
       "        text-align: right;\n",
       "    }\n",
       "</style>\n",
       "<table border=\"1\" class=\"dataframe\">\n",
       "  <thead>\n",
       "    <tr style=\"text-align: right;\">\n",
       "      <th></th>\n",
       "    </tr>\n",
       "  </thead>\n",
       "  <tbody>\n",
       "  </tbody>\n",
       "</table>\n",
       "</div>"
      ],
      "text/plain": [
       "Empty DataFrame\n",
       "Columns: []\n",
       "Index: []"
      ]
     },
     "execution_count": 25,
     "metadata": {},
     "output_type": "execute_result"
    }
   ],
   "source": [
    "df3"
   ]
  },
  {
   "cell_type": "code",
   "execution_count": 26,
   "id": "4cd2c48e-925d-4cce-8568-14bc7836fe0d",
   "metadata": {},
   "outputs": [],
   "source": [
    "# concatenate the two dataframes vertically\n",
    "updated_df = pd.concat([new_df, df3], axis=0)"
   ]
  },
  {
   "cell_type": "code",
   "execution_count": 27,
   "id": "abeff462-f2db-4148-b8ea-6d330c8f6f21",
   "metadata": {},
   "outputs": [
    {
     "data": {
      "text/plain": [
       "0.9762625"
      ]
     },
     "execution_count": 27,
     "metadata": {},
     "output_type": "execute_result"
    }
   ],
   "source": [
    "# calculate the total average execution price\n",
    "average_execution_price3 = updated_df['Price'].sum() / len(updated_df)\n",
    "\n",
    "average_execution_price3"
   ]
  },
  {
   "cell_type": "code",
   "execution_count": 28,
   "id": "7679401d-9d8f-4f79-bdbc-15d3e7f41123",
   "metadata": {},
   "outputs": [
    {
     "data": {
      "text/plain": [
       "20000"
      ]
     },
     "execution_count": 28,
     "metadata": {},
     "output_type": "execute_result"
    }
   ],
   "source": [
    "current_executed_quantity"
   ]
  },
  {
   "cell_type": "code",
   "execution_count": 29,
   "id": "e9cf3588-85cf-4ed1-b61d-9c50de4efafe",
   "metadata": {},
   "outputs": [
    {
     "data": {
      "text/plain": [
       "50000.0"
      ]
     },
     "execution_count": 29,
     "metadata": {},
     "output_type": "execute_result"
    }
   ],
   "source": [
    "non_executed_quantity3 = total_order_quantity * 0.7 - current_executed_quantity\n",
    "\n",
    "non_executed_quantity3"
   ]
  },
  {
   "cell_type": "markdown",
   "id": "f69b2539-79fa-4d22-aa53-b0b84d47bedb",
   "metadata": {},
   "source": [
    "# Fourth Interval"
   ]
  },
  {
   "cell_type": "code",
   "execution_count": 30,
   "id": "668aaa63-feb6-4148-b663-d94c75a034a5",
   "metadata": {},
   "outputs": [
    {
     "name": "stdout",
     "output_type": "stream",
     "text": [
      "Trade did not take place as Price < Average Price\n",
      "Successful execution for 0 th interval\n",
      "Trade did not take place as Price < Average Price\n",
      "Successful execution for 1 th interval\n",
      "Trade did not take place as Price < Average Price\n",
      "Successful execution for 2 th interval\n",
      "Trade did not take place as Price < Average Price\n",
      "Successful execution for 3 th interval\n",
      "Trade did not take place as Price < Average Price\n",
      "Successful execution for 4 th interval\n",
      "Trade did not take place as Price < Average Price\n",
      "Successful execution for 5 th interval\n",
      "Trade did not take place as Price < Average Price\n",
      "Successful execution for 6 th interval\n",
      "Trade did not take place as Price < Average Price\n",
      "Successful execution for 7 th interval\n",
      "Trade did not take place as Price < Average Price\n",
      "Successful execution for 8 th interval\n",
      "Trade did not take place as Price < Average Price\n",
      "Successful execution for 9 th interval\n",
      "Trade did not take place as Price < Average Price\n",
      "Successful execution for 10 th interval\n",
      "Trade did not take place as Price < Average Price\n",
      "Successful execution for 11 th interval\n",
      "Trade did not take place as Price < Average Price\n",
      "Successful execution for 12 th interval\n",
      "Trade did not take place as Price < Average Price\n",
      "Successful execution for 13 th interval\n",
      "Trade did not take place as Price < Average Price\n",
      "Successful execution for 14 th interval\n",
      "Trade did not take place as Price < Average Price\n",
      "Successful execution for 15 th interval\n",
      "Trade did not take place as Price < Average Price\n",
      "Successful execution for 16 th interval\n",
      "Trade did not take place as Price < Average Price\n",
      "Successful execution for 17 th interval\n",
      "Trade did not take place as Price < Average Price\n",
      "Successful execution for 18 th interval\n",
      "Trade did not take place as Price < Average Price\n",
      "Successful execution for 19 th interval\n",
      "Trade did not take place as Price < Average Price\n",
      "Successful execution for 20 th interval\n",
      "Trade did not take place as Price < Average Price\n",
      "Successful execution for 21 th interval\n",
      "Trade did not take place as Price < Average Price\n",
      "Successful execution for 22 th interval\n",
      "Trade did not take place as Price < Average Price\n",
      "Successful execution for 23 th interval\n",
      "Trade did not take place as Price < Average Price\n",
      "Successful execution for 24 th interval\n",
      "Trade did not take place as Price < Average Price\n",
      "Successful execution for 25 th interval\n",
      "Trade did not take place as Price < Average Price\n",
      "Successful execution for 26 th interval\n",
      "Trade did not take place as Price < Average Price\n",
      "Successful execution for 27 th interval\n",
      "Trade did not take place as Price < Average Price\n",
      "Successful execution for 28 th interval\n",
      "Trade did not take place as Price < Average Price\n",
      "Successful execution for 29 th interval\n"
     ]
    }
   ],
   "source": [
    "# execute the fourth window\n",
    "while dt.datetime.now() < fourth_execution_start_time:\n",
    "    time.sleep(1)\n",
    "\n",
    "batch4_trades = []  # create a list to store the prices\n",
    "\n",
    "while dt.datetime.now() >= fourth_execution_start_time and dt.datetime.now() <= fourth_execution_end_time:\n",
    "    # recalculate the number of units to be executed\n",
    "    order_quantity = int((non_executed_quantity3 + (total_order_quantity * 0.3)) / 30)\n",
    "    for i in range(30): # 30 iterations to execute every 6 minutes\n",
    "        if current_executed_quantity < total_order_quantity:\n",
    "            if get_rate() >= average_execution_price3:\n",
    "                response = execute_order(order_quantity, instrument, \"BUY\", batch4_trades)\n",
    "                current_executed_quantity += order_quantity\n",
    "                print(\"Trade took place!\")\n",
    "            else:\n",
    "                print(\"Trade did not take place as Price < Average Price\")\n",
    "        else:\n",
    "            break\n",
    "        time.sleep(360) # wait for 6 minutes between orders\n",
    "        print(\"Successful execution for\", i, \"th interval\")"
   ]
  },
  {
   "cell_type": "code",
   "execution_count": 31,
   "id": "46090b36-cf54-44d0-b7cb-7b70a6061e8b",
   "metadata": {},
   "outputs": [],
   "source": [
    "# convert the list of prices into a DataFrame\n",
    "df4 = pd.DataFrame(batch4_trades)"
   ]
  },
  {
   "cell_type": "code",
   "execution_count": 32,
   "id": "49d3e26d-0b30-4497-ae3e-2433088a5943",
   "metadata": {},
   "outputs": [
    {
     "data": {
      "text/html": [
       "<div>\n",
       "<style scoped>\n",
       "    .dataframe tbody tr th:only-of-type {\n",
       "        vertical-align: middle;\n",
       "    }\n",
       "\n",
       "    .dataframe tbody tr th {\n",
       "        vertical-align: top;\n",
       "    }\n",
       "\n",
       "    .dataframe thead th {\n",
       "        text-align: right;\n",
       "    }\n",
       "</style>\n",
       "<table border=\"1\" class=\"dataframe\">\n",
       "  <thead>\n",
       "    <tr style=\"text-align: right;\">\n",
       "      <th></th>\n",
       "    </tr>\n",
       "  </thead>\n",
       "  <tbody>\n",
       "  </tbody>\n",
       "</table>\n",
       "</div>"
      ],
      "text/plain": [
       "Empty DataFrame\n",
       "Columns: []\n",
       "Index: []"
      ]
     },
     "execution_count": 32,
     "metadata": {},
     "output_type": "execute_result"
    }
   ],
   "source": [
    "df4"
   ]
  },
  {
   "cell_type": "code",
   "execution_count": 33,
   "id": "ae17d246-881e-4e53-ac9c-b47b0e7386db",
   "metadata": {},
   "outputs": [],
   "source": [
    "# concatenate the two dataframes vertically\n",
    "final_df = pd.concat([updated_df, df4], axis=0)"
   ]
  },
  {
   "cell_type": "code",
   "execution_count": 34,
   "id": "f03fb38c-2ef3-41c2-8790-bdb1b8fad1cf",
   "metadata": {},
   "outputs": [
    {
     "data": {
      "text/plain": [
       "0.9762625"
      ]
     },
     "execution_count": 34,
     "metadata": {},
     "output_type": "execute_result"
    }
   ],
   "source": [
    "# calculate the total average execution price\n",
    "final_average_execution_price = updated_df['Price'].sum() / len(updated_df)\n",
    "\n",
    "final_average_execution_price"
   ]
  },
  {
   "cell_type": "code",
   "execution_count": 35,
   "id": "fea40d0e-8684-40b2-b67d-a12135367c56",
   "metadata": {},
   "outputs": [
    {
     "data": {
      "text/plain": [
       "20000"
      ]
     },
     "execution_count": 35,
     "metadata": {},
     "output_type": "execute_result"
    }
   ],
   "source": [
    "current_executed_quantity"
   ]
  },
  {
   "cell_type": "code",
   "execution_count": 36,
   "id": "9ac39606-2828-4f09-b6f1-c8170e0177b8",
   "metadata": {},
   "outputs": [
    {
     "data": {
      "text/plain": [
       "80000"
      ]
     },
     "execution_count": 36,
     "metadata": {},
     "output_type": "execute_result"
    }
   ],
   "source": [
    "non_executed_quantity_final = total_order_quantity - current_executed_quantity\n",
    "\n",
    "non_executed_quantity_final"
   ]
  },
  {
   "cell_type": "code",
   "execution_count": 37,
   "id": "6b5442bf-36ad-4204-a908-d097108ec832",
   "metadata": {},
   "outputs": [],
   "source": [
    "final_df.to_csv(\"Long_Final_Executed_Data.csv\", index=False)"
   ]
  },
  {
   "cell_type": "markdown",
   "id": "8e96e983-5edf-4ca2-9ffc-4c7b6dda4f43",
   "metadata": {},
   "source": [
    "# Final Extensions"
   ]
  },
  {
   "cell_type": "code",
   "execution_count": 38,
   "id": "f2cef3ae-6741-4c6c-9372-a3eb9e266202",
   "metadata": {},
   "outputs": [
    {
     "data": {
      "text/html": [
       "<div>\n",
       "<style scoped>\n",
       "    .dataframe tbody tr th:only-of-type {\n",
       "        vertical-align: middle;\n",
       "    }\n",
       "\n",
       "    .dataframe tbody tr th {\n",
       "        vertical-align: top;\n",
       "    }\n",
       "\n",
       "    .dataframe thead th {\n",
       "        text-align: right;\n",
       "    }\n",
       "</style>\n",
       "<table border=\"1\" class=\"dataframe\">\n",
       "  <thead>\n",
       "    <tr style=\"text-align: right;\">\n",
       "      <th></th>\n",
       "      <th>Timestamp</th>\n",
       "      <th>Order_ID</th>\n",
       "      <th>Instrument</th>\n",
       "      <th>Price</th>\n",
       "      <th>Units</th>\n",
       "      <th>Side</th>\n",
       "    </tr>\n",
       "  </thead>\n",
       "  <tbody>\n",
       "    <tr>\n",
       "      <th>0</th>\n",
       "      <td>2023-05-11 15:00:01.081373</td>\n",
       "      <td>652.0</td>\n",
       "      <td>EUR_CHF</td>\n",
       "      <td>0.97664</td>\n",
       "      <td>1000</td>\n",
       "      <td>BUY</td>\n",
       "    </tr>\n",
       "    <tr>\n",
       "      <th>1</th>\n",
       "      <td>2023-05-11 15:06:01.196159</td>\n",
       "      <td>658.0</td>\n",
       "      <td>EUR_CHF</td>\n",
       "      <td>0.97667</td>\n",
       "      <td>1000</td>\n",
       "      <td>BUY</td>\n",
       "    </tr>\n",
       "    <tr>\n",
       "      <th>2</th>\n",
       "      <td>2023-05-11 15:12:01.289263</td>\n",
       "      <td>664.0</td>\n",
       "      <td>EUR_CHF</td>\n",
       "      <td>0.97665</td>\n",
       "      <td>1000</td>\n",
       "      <td>BUY</td>\n",
       "    </tr>\n",
       "    <tr>\n",
       "      <th>3</th>\n",
       "      <td>2023-05-11 15:18:01.391696</td>\n",
       "      <td>670.0</td>\n",
       "      <td>EUR_CHF</td>\n",
       "      <td>0.97653</td>\n",
       "      <td>1000</td>\n",
       "      <td>BUY</td>\n",
       "    </tr>\n",
       "    <tr>\n",
       "      <th>4</th>\n",
       "      <td>2023-05-11 15:24:01.478402</td>\n",
       "      <td>676.0</td>\n",
       "      <td>EUR_CHF</td>\n",
       "      <td>0.97646</td>\n",
       "      <td>1000</td>\n",
       "      <td>BUY</td>\n",
       "    </tr>\n",
       "    <tr>\n",
       "      <th>5</th>\n",
       "      <td>2023-05-11 15:30:01.556785</td>\n",
       "      <td>682.0</td>\n",
       "      <td>EUR_CHF</td>\n",
       "      <td>0.97635</td>\n",
       "      <td>1000</td>\n",
       "      <td>BUY</td>\n",
       "    </tr>\n",
       "    <tr>\n",
       "      <th>6</th>\n",
       "      <td>2023-05-11 15:36:01.657372</td>\n",
       "      <td>688.0</td>\n",
       "      <td>EUR_CHF</td>\n",
       "      <td>0.97626</td>\n",
       "      <td>1000</td>\n",
       "      <td>BUY</td>\n",
       "    </tr>\n",
       "    <tr>\n",
       "      <th>7</th>\n",
       "      <td>2023-05-11 15:42:01.752176</td>\n",
       "      <td>694.0</td>\n",
       "      <td>EUR_CHF</td>\n",
       "      <td>0.97627</td>\n",
       "      <td>1000</td>\n",
       "      <td>BUY</td>\n",
       "    </tr>\n",
       "    <tr>\n",
       "      <th>8</th>\n",
       "      <td>2023-05-11 15:48:01.860592</td>\n",
       "      <td>700.0</td>\n",
       "      <td>EUR_CHF</td>\n",
       "      <td>0.97630</td>\n",
       "      <td>1000</td>\n",
       "      <td>BUY</td>\n",
       "    </tr>\n",
       "    <tr>\n",
       "      <th>9</th>\n",
       "      <td>2023-05-11 15:54:01.955023</td>\n",
       "      <td>706.0</td>\n",
       "      <td>EUR_CHF</td>\n",
       "      <td>0.97619</td>\n",
       "      <td>1000</td>\n",
       "      <td>BUY</td>\n",
       "    </tr>\n",
       "    <tr>\n",
       "      <th>10</th>\n",
       "      <td>2023-05-11 16:00:02.060564</td>\n",
       "      <td>712.0</td>\n",
       "      <td>EUR_CHF</td>\n",
       "      <td>0.97647</td>\n",
       "      <td>1000</td>\n",
       "      <td>BUY</td>\n",
       "    </tr>\n",
       "    <tr>\n",
       "      <th>11</th>\n",
       "      <td>2023-05-11 16:06:02.152803</td>\n",
       "      <td>718.0</td>\n",
       "      <td>EUR_CHF</td>\n",
       "      <td>0.97599</td>\n",
       "      <td>1000</td>\n",
       "      <td>BUY</td>\n",
       "    </tr>\n",
       "    <tr>\n",
       "      <th>12</th>\n",
       "      <td>2023-05-11 16:12:02.260651</td>\n",
       "      <td>724.0</td>\n",
       "      <td>EUR_CHF</td>\n",
       "      <td>0.97602</td>\n",
       "      <td>1000</td>\n",
       "      <td>BUY</td>\n",
       "    </tr>\n",
       "    <tr>\n",
       "      <th>13</th>\n",
       "      <td>2023-05-11 16:18:02.329229</td>\n",
       "      <td>730.0</td>\n",
       "      <td>EUR_CHF</td>\n",
       "      <td>0.97608</td>\n",
       "      <td>1000</td>\n",
       "      <td>BUY</td>\n",
       "    </tr>\n",
       "    <tr>\n",
       "      <th>14</th>\n",
       "      <td>2023-05-11 16:24:02.404695</td>\n",
       "      <td>736.0</td>\n",
       "      <td>EUR_CHF</td>\n",
       "      <td>0.97618</td>\n",
       "      <td>1000</td>\n",
       "      <td>BUY</td>\n",
       "    </tr>\n",
       "    <tr>\n",
       "      <th>15</th>\n",
       "      <td>2023-05-11 16:30:02.505509</td>\n",
       "      <td>741.0</td>\n",
       "      <td>EUR_CHF</td>\n",
       "      <td>0.97594</td>\n",
       "      <td>1000</td>\n",
       "      <td>BUY</td>\n",
       "    </tr>\n",
       "    <tr>\n",
       "      <th>16</th>\n",
       "      <td>2023-05-11 16:36:02.614450</td>\n",
       "      <td>747.0</td>\n",
       "      <td>EUR_CHF</td>\n",
       "      <td>0.97586</td>\n",
       "      <td>1000</td>\n",
       "      <td>BUY</td>\n",
       "    </tr>\n",
       "    <tr>\n",
       "      <th>17</th>\n",
       "      <td>2023-05-11 16:42:02.738548</td>\n",
       "      <td>753.0</td>\n",
       "      <td>EUR_CHF</td>\n",
       "      <td>0.97606</td>\n",
       "      <td>1000</td>\n",
       "      <td>BUY</td>\n",
       "    </tr>\n",
       "    <tr>\n",
       "      <th>18</th>\n",
       "      <td>2023-05-11 16:48:02.824661</td>\n",
       "      <td>759.0</td>\n",
       "      <td>EUR_CHF</td>\n",
       "      <td>0.97613</td>\n",
       "      <td>1000</td>\n",
       "      <td>BUY</td>\n",
       "    </tr>\n",
       "    <tr>\n",
       "      <th>19</th>\n",
       "      <td>2023-05-11 16:54:02.918207</td>\n",
       "      <td>765.0</td>\n",
       "      <td>EUR_CHF</td>\n",
       "      <td>0.97620</td>\n",
       "      <td>1000</td>\n",
       "      <td>BUY</td>\n",
       "    </tr>\n",
       "  </tbody>\n",
       "</table>\n",
       "</div>"
      ],
      "text/plain": [
       "                    Timestamp  Order_ID Instrument    Price  Units Side\n",
       "0  2023-05-11 15:00:01.081373     652.0    EUR_CHF  0.97664   1000  BUY\n",
       "1  2023-05-11 15:06:01.196159     658.0    EUR_CHF  0.97667   1000  BUY\n",
       "2  2023-05-11 15:12:01.289263     664.0    EUR_CHF  0.97665   1000  BUY\n",
       "3  2023-05-11 15:18:01.391696     670.0    EUR_CHF  0.97653   1000  BUY\n",
       "4  2023-05-11 15:24:01.478402     676.0    EUR_CHF  0.97646   1000  BUY\n",
       "5  2023-05-11 15:30:01.556785     682.0    EUR_CHF  0.97635   1000  BUY\n",
       "6  2023-05-11 15:36:01.657372     688.0    EUR_CHF  0.97626   1000  BUY\n",
       "7  2023-05-11 15:42:01.752176     694.0    EUR_CHF  0.97627   1000  BUY\n",
       "8  2023-05-11 15:48:01.860592     700.0    EUR_CHF  0.97630   1000  BUY\n",
       "9  2023-05-11 15:54:01.955023     706.0    EUR_CHF  0.97619   1000  BUY\n",
       "10 2023-05-11 16:00:02.060564     712.0    EUR_CHF  0.97647   1000  BUY\n",
       "11 2023-05-11 16:06:02.152803     718.0    EUR_CHF  0.97599   1000  BUY\n",
       "12 2023-05-11 16:12:02.260651     724.0    EUR_CHF  0.97602   1000  BUY\n",
       "13 2023-05-11 16:18:02.329229     730.0    EUR_CHF  0.97608   1000  BUY\n",
       "14 2023-05-11 16:24:02.404695     736.0    EUR_CHF  0.97618   1000  BUY\n",
       "15 2023-05-11 16:30:02.505509     741.0    EUR_CHF  0.97594   1000  BUY\n",
       "16 2023-05-11 16:36:02.614450     747.0    EUR_CHF  0.97586   1000  BUY\n",
       "17 2023-05-11 16:42:02.738548     753.0    EUR_CHF  0.97606   1000  BUY\n",
       "18 2023-05-11 16:48:02.824661     759.0    EUR_CHF  0.97613   1000  BUY\n",
       "19 2023-05-11 16:54:02.918207     765.0    EUR_CHF  0.97620   1000  BUY"
      ]
     },
     "execution_count": 38,
     "metadata": {},
     "output_type": "execute_result"
    }
   ],
   "source": [
    "final_df"
   ]
  },
  {
   "cell_type": "code",
   "execution_count": 39,
   "id": "e4498843-a837-4c8d-9f7a-33107041e919",
   "metadata": {},
   "outputs": [
    {
     "data": {
      "text/plain": [
       "20000"
      ]
     },
     "execution_count": 39,
     "metadata": {},
     "output_type": "execute_result"
    }
   ],
   "source": [
    "current_executed_quantity"
   ]
  },
  {
   "cell_type": "code",
   "execution_count": 40,
   "id": "a25e09f7-8a88-4fcf-8470-b68a67dcc737",
   "metadata": {},
   "outputs": [
    {
     "data": {
      "text/plain": [
       "80000"
      ]
     },
     "execution_count": 40,
     "metadata": {},
     "output_type": "execute_result"
    }
   ],
   "source": [
    "non_executed_quantity_final"
   ]
  },
  {
   "cell_type": "code",
   "execution_count": 41,
   "id": "b4df4a40-8607-47f7-9e59-323cd34723e7",
   "metadata": {},
   "outputs": [
    {
     "name": "stdout",
     "output_type": "stream",
     "text": [
      "Trading did not take place as Price < Average Price.\n"
     ]
    }
   ],
   "source": [
    "if non_executed_quantity_final > 0:\n",
    "    # Wait for 30 minutes after last execution window\n",
    "    extension1_end_time = fourth_execution_end_time + dt.timedelta(minutes=30)\n",
    "    while dt.datetime.now() < extension1_end_time:\n",
    "        time.sleep(60)\n",
    "\n",
    "    extension1_executed_trades = []\n",
    "    new_order_quantity = int(non_executed_quantity_final * 0.5)\n",
    "\n",
    "    # Check condition and execute trade\n",
    "    if get_rate() >= final_average_execution_price:\n",
    "        execute_order(new_order_quantity, instrument, \"BUY\", extension1_executed_trades)\n",
    "        print(\"Traded 50% of the Non Executed Quantity in one go as Price >= Average Price\")\n",
    "        \n",
    "    else:\n",
    "        print(\"Trading did not take place as Price < Average Price.\")\n",
    "        \n",
    "else:\n",
    "    print(\"Trading did not take place as the entire quantity was executed in the previous four execution windows.\")"
   ]
  },
  {
   "cell_type": "code",
   "execution_count": 42,
   "id": "8b4c79d3-9a89-438c-9f00-46a3029af79e",
   "metadata": {},
   "outputs": [
    {
     "data": {
      "text/html": [
       "<div>\n",
       "<style scoped>\n",
       "    .dataframe tbody tr th:only-of-type {\n",
       "        vertical-align: middle;\n",
       "    }\n",
       "\n",
       "    .dataframe tbody tr th {\n",
       "        vertical-align: top;\n",
       "    }\n",
       "\n",
       "    .dataframe thead th {\n",
       "        text-align: right;\n",
       "    }\n",
       "</style>\n",
       "<table border=\"1\" class=\"dataframe\">\n",
       "  <thead>\n",
       "    <tr style=\"text-align: right;\">\n",
       "      <th></th>\n",
       "    </tr>\n",
       "  </thead>\n",
       "  <tbody>\n",
       "  </tbody>\n",
       "</table>\n",
       "</div>"
      ],
      "text/plain": [
       "Empty DataFrame\n",
       "Columns: []\n",
       "Index: []"
      ]
     },
     "execution_count": 42,
     "metadata": {},
     "output_type": "execute_result"
    }
   ],
   "source": [
    "# convert the list of prices into a DataFrame\n",
    "extension1_df = pd.DataFrame(extension1_executed_trades)\n",
    "\n",
    "extension1_df"
   ]
  },
  {
   "cell_type": "code",
   "execution_count": 43,
   "id": "6d19d136-2d42-437d-8660-aded0fdd043a",
   "metadata": {},
   "outputs": [
    {
     "name": "stdout",
     "output_type": "stream",
     "text": [
      "Order quantity reached below 20% of the initial order.\n"
     ]
    }
   ],
   "source": [
    "if non_executed_quantity_final > 0:\n",
    "    \n",
    "    # Wait for 60 minutes after last execution window\n",
    "    extension2_end_time = fourth_execution_end_time + dt.timedelta(minutes=60)\n",
    "    while dt.datetime.now() < extension2_end_time:\n",
    "        time.sleep(1)\n",
    "\n",
    "    extension2_executed_trades = []\n",
    "\n",
    "    # Check condition and execute trade\n",
    "    if not extension1_df.empty:\n",
    "        # If current Price is more than the Average Execution Price\n",
    "        if get_rate() >= final_average_execution_price:\n",
    "            # Buy remaining 50% of non-executed amount\n",
    "            execute_order(new_order_quantity, instrument, \"BUY\", extension2_executed_trades)\n",
    "            print(\"Traded remaining 50% of the Non Executed Quantity in one go as Price >= Average Price and Extention1 was executed.\")\n",
    "        # If If current Price is less than the Average Execution Price\n",
    "        else:\n",
    "            # Buy remaining 50% of non-executed amount\n",
    "            execute_order(new_order_quantity, instrument, \"BUY\", extension2_executed_trades)\n",
    "            print(\"Traded remaining 50% of the Non Executed Quantity in one go as Price < Average Price and Extention1 was executed.\")\n",
    "\n",
    "    else:\n",
    "        # Check if current price is below average price, then start selling\n",
    "        if get_rate() < final_average_execution_price:\n",
    "            # Sell total executed units every one-minute (TWAP) whatever the price is until 20% of initial order is reached\n",
    "            required_quantity = current_executed_quantity - (total_order_quantity * 0.2)\n",
    "            executed_quantity = 0\n",
    "\n",
    "            # Keep selling until executed_quantity < new_order_size\n",
    "            while executed_quantity < required_quantity:\n",
    "                execute_order(order_quantity, instrument, \"SELL\", extension2_executed_trades)\n",
    "                executed_quantity += order_quantity\n",
    "                time.sleep(60)\n",
    "                print(\"Successful execution of trade!\")\n",
    "            print(\"Order quantity reached below 20% of the initial order.\")\n",
    "            \n",
    "        else:\n",
    "            print (\"Trading did not take place as Price > Average Price.\")\n",
    "            \n",
    "else:\n",
    "    print(\"Trading did not take place as the entire quantity was executed in the previous four execution windows.\")"
   ]
  },
  {
   "cell_type": "code",
   "execution_count": 44,
   "id": "75957447-5f9d-469b-9ab0-320821a21f22",
   "metadata": {},
   "outputs": [
    {
     "data": {
      "text/html": [
       "<div>\n",
       "<style scoped>\n",
       "    .dataframe tbody tr th:only-of-type {\n",
       "        vertical-align: middle;\n",
       "    }\n",
       "\n",
       "    .dataframe tbody tr th {\n",
       "        vertical-align: top;\n",
       "    }\n",
       "\n",
       "    .dataframe thead th {\n",
       "        text-align: right;\n",
       "    }\n",
       "</style>\n",
       "<table border=\"1\" class=\"dataframe\">\n",
       "  <thead>\n",
       "    <tr style=\"text-align: right;\">\n",
       "      <th></th>\n",
       "    </tr>\n",
       "  </thead>\n",
       "  <tbody>\n",
       "  </tbody>\n",
       "</table>\n",
       "</div>"
      ],
      "text/plain": [
       "Empty DataFrame\n",
       "Columns: []\n",
       "Index: []"
      ]
     },
     "execution_count": 44,
     "metadata": {},
     "output_type": "execute_result"
    }
   ],
   "source": [
    "# convert the list of prices into a DataFrame\n",
    "extension2_df = pd.DataFrame(extension2_executed_trades)\n",
    "\n",
    "extension2_df"
   ]
  },
  {
   "cell_type": "markdown",
   "id": "f4691375-f34e-437c-92cd-cf680b6e70a7",
   "metadata": {},
   "source": [
    "# Updating the Database"
   ]
  },
  {
   "cell_type": "code",
   "execution_count": 45,
   "id": "e304b9a0-327c-48b6-8396-d5caa0e57319",
   "metadata": {},
   "outputs": [],
   "source": [
    "from pymongo import MongoClient"
   ]
  },
  {
   "cell_type": "code",
   "execution_count": 46,
   "id": "085a62e6-194a-4395-b75d-186c7a16c0e6",
   "metadata": {},
   "outputs": [],
   "source": [
    "# MongoDb Setup\n",
    "client = MongoClient('mongodb://localhost:27017/')\n",
    "db = client[\"TWAP_Forex_Trading\"]"
   ]
  },
  {
   "cell_type": "code",
   "execution_count": 47,
   "id": "655d61be-29a7-4f6a-a24c-1452bb812ba4",
   "metadata": {},
   "outputs": [
    {
     "data": {
      "text/plain": [
       "<pymongo.results.InsertManyResult at 0x7fbf78008ca0>"
      ]
     },
     "execution_count": 47,
     "metadata": {},
     "output_type": "execute_result"
    }
   ],
   "source": [
    "collection_name = \"Long_Trade_EURCHF\"\n",
    "collection = db[collection_name]\n",
    "collection.insert_many(final_df.to_dict(\"records\") + extension1_df.to_dict(\"records\") + extension2_df.to_dict(\"records\"))"
   ]
  },
  {
   "cell_type": "markdown",
   "id": "9f348a49-73de-44c1-be5a-2bd9ae20e642",
   "metadata": {},
   "source": [
    "# Creating required csv File"
   ]
  },
  {
   "cell_type": "code",
   "execution_count": 49,
   "id": "67343847-4c59-43fc-8db3-f8ae910a3fad",
   "metadata": {},
   "outputs": [],
   "source": [
    "# Create a dictionary with your data\n",
    "data = {'Interval': ['Interval 1', 'Interval 2', 'Interval 3', 'Interval 4'],\n",
    "        'Executed Quantity': [20000, 0, 0, 0], \n",
    "        'Percentage of Executed Quantity': [100, 0, 0, 0],\n",
    "        'Non Executed Quantity': [0, 30000, 20000, 30000],\n",
    "        'Percentage of Non Executed Quantity': [0, 100, 100, 100]}\n",
    "\n",
    "# Create a Pandas DataFrame from the dictionary\n",
    "df = pd.DataFrame(data)\n",
    "\n",
    "# Add some sample data for the last three columns\n",
    "df['Average Execution Price'] = [average_execution_price1, average_execution_price2, average_execution_price3, final_average_execution_price]\n",
    "\n",
    "# Convert the DataFrame to a CSV file\n",
    "df.to_csv('Final Project - Long - Execution Output Vectors.csv', index=False)"
   ]
  }
 ],
 "metadata": {
  "kernelspec": {
   "display_name": "Python 3 (ipykernel)",
   "language": "python",
   "name": "python3"
  },
  "language_info": {
   "codemirror_mode": {
    "name": "ipython",
    "version": 3
   },
   "file_extension": ".py",
   "mimetype": "text/x-python",
   "name": "python",
   "nbconvert_exporter": "python",
   "pygments_lexer": "ipython3",
   "version": "3.9.13"
  }
 },
 "nbformat": 4,
 "nbformat_minor": 5
}
