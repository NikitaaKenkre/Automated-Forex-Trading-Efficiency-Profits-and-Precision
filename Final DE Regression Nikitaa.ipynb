{
 "cells": [
  {
   "cell_type": "code",
   "execution_count": 1,
   "id": "22ea48fe-5c3d-4c4e-adb5-86ca416b527e",
   "metadata": {},
   "outputs": [],
   "source": [
    "import pandas as pd\n",
    "from pycaret.regression import *\n",
    "import os"
   ]
  },
  {
   "cell_type": "code",
   "execution_count": 2,
   "id": "2d2911a2-6048-4558-8f73-c266601e892f",
   "metadata": {},
   "outputs": [],
   "source": [
    "updated_folder = \"/Users/nikitaakenkre/Desktop/NYU Coursework/DE/Final Project/Currency Pairs\"\n",
    "\n",
    "csv_files = [f for f in os.listdir(updated_folder) if f.endswith('.csv')]\n",
    "\n",
    "df_list = []\n",
    "\n",
    "for f in csv_files:\n",
    "    # Read the csv file and only extract three required columns\n",
    "    df_list.append(pd.read_csv(os.path.join(updated_folder, f)))"
   ]
  },
  {
   "cell_type": "code",
   "execution_count": 3,
   "id": "1a05405d-ca7b-41b7-aff9-3f522da42842",
   "metadata": {},
   "outputs": [],
   "source": [
    "#Concatenating dataframes for all currency pairs\n",
    "df = pd.concat(df_list, ignore_index=True)"
   ]
  },
  {
   "cell_type": "code",
   "execution_count": 4,
   "id": "1fc52913-b7c4-41bc-abd0-6af19140abaf",
   "metadata": {},
   "outputs": [],
   "source": [
    "#Setting dependent variable as 'VWAP' and implements 70 - 30 train test"
   ]
  },
  {
   "cell_type": "code",
   "execution_count": 5,
   "id": "e71137ba-2187-4186-80f9-0f68ccbc4a66",
   "metadata": {},
   "outputs": [
    {
     "data": {
      "text/html": [
       "<style type=\"text/css\">\n",
       "#T_3130e_row9_col1 {\n",
       "  background-color: lightgreen;\n",
       "}\n",
       "</style>\n",
       "<table id=\"T_3130e\">\n",
       "  <thead>\n",
       "    <tr>\n",
       "      <th class=\"blank level0\" >&nbsp;</th>\n",
       "      <th id=\"T_3130e_level0_col0\" class=\"col_heading level0 col0\" >Description</th>\n",
       "      <th id=\"T_3130e_level0_col1\" class=\"col_heading level0 col1\" >Value</th>\n",
       "    </tr>\n",
       "  </thead>\n",
       "  <tbody>\n",
       "    <tr>\n",
       "      <th id=\"T_3130e_level0_row0\" class=\"row_heading level0 row0\" >0</th>\n",
       "      <td id=\"T_3130e_row0_col0\" class=\"data row0 col0\" >Session id</td>\n",
       "      <td id=\"T_3130e_row0_col1\" class=\"data row0 col1\" >3921</td>\n",
       "    </tr>\n",
       "    <tr>\n",
       "      <th id=\"T_3130e_level0_row1\" class=\"row_heading level0 row1\" >1</th>\n",
       "      <td id=\"T_3130e_row1_col0\" class=\"data row1 col0\" >Target</td>\n",
       "      <td id=\"T_3130e_row1_col1\" class=\"data row1 col1\" >VWAP</td>\n",
       "    </tr>\n",
       "    <tr>\n",
       "      <th id=\"T_3130e_level0_row2\" class=\"row_heading level0 row2\" >2</th>\n",
       "      <td id=\"T_3130e_row2_col0\" class=\"data row2 col0\" >Target type</td>\n",
       "      <td id=\"T_3130e_row2_col1\" class=\"data row2 col1\" >Regression</td>\n",
       "    </tr>\n",
       "    <tr>\n",
       "      <th id=\"T_3130e_level0_row3\" class=\"row_heading level0 row3\" >3</th>\n",
       "      <td id=\"T_3130e_row3_col0\" class=\"data row3 col0\" >Original data shape</td>\n",
       "      <td id=\"T_3130e_row3_col1\" class=\"data row3 col1\" >(95380, 8)</td>\n",
       "    </tr>\n",
       "    <tr>\n",
       "      <th id=\"T_3130e_level0_row4\" class=\"row_heading level0 row4\" >4</th>\n",
       "      <td id=\"T_3130e_row4_col0\" class=\"data row4 col0\" >Transformed data shape</td>\n",
       "      <td id=\"T_3130e_row4_col1\" class=\"data row4 col1\" >(95380, 8)</td>\n",
       "    </tr>\n",
       "    <tr>\n",
       "      <th id=\"T_3130e_level0_row5\" class=\"row_heading level0 row5\" >5</th>\n",
       "      <td id=\"T_3130e_row5_col0\" class=\"data row5 col0\" >Transformed train set shape</td>\n",
       "      <td id=\"T_3130e_row5_col1\" class=\"data row5 col1\" >(66766, 8)</td>\n",
       "    </tr>\n",
       "    <tr>\n",
       "      <th id=\"T_3130e_level0_row6\" class=\"row_heading level0 row6\" >6</th>\n",
       "      <td id=\"T_3130e_row6_col0\" class=\"data row6 col0\" >Transformed test set shape</td>\n",
       "      <td id=\"T_3130e_row6_col1\" class=\"data row6 col1\" >(28614, 8)</td>\n",
       "    </tr>\n",
       "    <tr>\n",
       "      <th id=\"T_3130e_level0_row7\" class=\"row_heading level0 row7\" >7</th>\n",
       "      <td id=\"T_3130e_row7_col0\" class=\"data row7 col0\" >Numeric features</td>\n",
       "      <td id=\"T_3130e_row7_col1\" class=\"data row7 col1\" >5</td>\n",
       "    </tr>\n",
       "    <tr>\n",
       "      <th id=\"T_3130e_level0_row8\" class=\"row_heading level0 row8\" >8</th>\n",
       "      <td id=\"T_3130e_row8_col0\" class=\"data row8 col0\" >Categorical features</td>\n",
       "      <td id=\"T_3130e_row8_col1\" class=\"data row8 col1\" >2</td>\n",
       "    </tr>\n",
       "    <tr>\n",
       "      <th id=\"T_3130e_level0_row9\" class=\"row_heading level0 row9\" >9</th>\n",
       "      <td id=\"T_3130e_row9_col0\" class=\"data row9 col0\" >Preprocess</td>\n",
       "      <td id=\"T_3130e_row9_col1\" class=\"data row9 col1\" >True</td>\n",
       "    </tr>\n",
       "    <tr>\n",
       "      <th id=\"T_3130e_level0_row10\" class=\"row_heading level0 row10\" >10</th>\n",
       "      <td id=\"T_3130e_row10_col0\" class=\"data row10 col0\" >Imputation type</td>\n",
       "      <td id=\"T_3130e_row10_col1\" class=\"data row10 col1\" >simple</td>\n",
       "    </tr>\n",
       "    <tr>\n",
       "      <th id=\"T_3130e_level0_row11\" class=\"row_heading level0 row11\" >11</th>\n",
       "      <td id=\"T_3130e_row11_col0\" class=\"data row11 col0\" >Numeric imputation</td>\n",
       "      <td id=\"T_3130e_row11_col1\" class=\"data row11 col1\" >mean</td>\n",
       "    </tr>\n",
       "    <tr>\n",
       "      <th id=\"T_3130e_level0_row12\" class=\"row_heading level0 row12\" >12</th>\n",
       "      <td id=\"T_3130e_row12_col0\" class=\"data row12 col0\" >Categorical imputation</td>\n",
       "      <td id=\"T_3130e_row12_col1\" class=\"data row12 col1\" >mode</td>\n",
       "    </tr>\n",
       "    <tr>\n",
       "      <th id=\"T_3130e_level0_row13\" class=\"row_heading level0 row13\" >13</th>\n",
       "      <td id=\"T_3130e_row13_col0\" class=\"data row13 col0\" >Maximum one-hot encoding</td>\n",
       "      <td id=\"T_3130e_row13_col1\" class=\"data row13 col1\" >25</td>\n",
       "    </tr>\n",
       "    <tr>\n",
       "      <th id=\"T_3130e_level0_row14\" class=\"row_heading level0 row14\" >14</th>\n",
       "      <td id=\"T_3130e_row14_col0\" class=\"data row14 col0\" >Encoding method</td>\n",
       "      <td id=\"T_3130e_row14_col1\" class=\"data row14 col1\" >None</td>\n",
       "    </tr>\n",
       "    <tr>\n",
       "      <th id=\"T_3130e_level0_row15\" class=\"row_heading level0 row15\" >15</th>\n",
       "      <td id=\"T_3130e_row15_col0\" class=\"data row15 col0\" >Fold Generator</td>\n",
       "      <td id=\"T_3130e_row15_col1\" class=\"data row15 col1\" >KFold</td>\n",
       "    </tr>\n",
       "    <tr>\n",
       "      <th id=\"T_3130e_level0_row16\" class=\"row_heading level0 row16\" >16</th>\n",
       "      <td id=\"T_3130e_row16_col0\" class=\"data row16 col0\" >Fold Number</td>\n",
       "      <td id=\"T_3130e_row16_col1\" class=\"data row16 col1\" >10</td>\n",
       "    </tr>\n",
       "    <tr>\n",
       "      <th id=\"T_3130e_level0_row17\" class=\"row_heading level0 row17\" >17</th>\n",
       "      <td id=\"T_3130e_row17_col0\" class=\"data row17 col0\" >CPU Jobs</td>\n",
       "      <td id=\"T_3130e_row17_col1\" class=\"data row17 col1\" >-1</td>\n",
       "    </tr>\n",
       "    <tr>\n",
       "      <th id=\"T_3130e_level0_row18\" class=\"row_heading level0 row18\" >18</th>\n",
       "      <td id=\"T_3130e_row18_col0\" class=\"data row18 col0\" >Use GPU</td>\n",
       "      <td id=\"T_3130e_row18_col1\" class=\"data row18 col1\" >False</td>\n",
       "    </tr>\n",
       "    <tr>\n",
       "      <th id=\"T_3130e_level0_row19\" class=\"row_heading level0 row19\" >19</th>\n",
       "      <td id=\"T_3130e_row19_col0\" class=\"data row19 col0\" >Log Experiment</td>\n",
       "      <td id=\"T_3130e_row19_col1\" class=\"data row19 col1\" >False</td>\n",
       "    </tr>\n",
       "    <tr>\n",
       "      <th id=\"T_3130e_level0_row20\" class=\"row_heading level0 row20\" >20</th>\n",
       "      <td id=\"T_3130e_row20_col0\" class=\"data row20 col0\" >Experiment Name</td>\n",
       "      <td id=\"T_3130e_row20_col1\" class=\"data row20 col1\" >reg-default-name</td>\n",
       "    </tr>\n",
       "    <tr>\n",
       "      <th id=\"T_3130e_level0_row21\" class=\"row_heading level0 row21\" >21</th>\n",
       "      <td id=\"T_3130e_row21_col0\" class=\"data row21 col0\" >USI</td>\n",
       "      <td id=\"T_3130e_row21_col1\" class=\"data row21 col1\" >b103</td>\n",
       "    </tr>\n",
       "  </tbody>\n",
       "</table>\n"
      ],
      "text/plain": [
       "<pandas.io.formats.style.Styler at 0x7fb2386dedc0>"
      ]
     },
     "metadata": {},
     "output_type": "display_data"
    }
   ],
   "source": [
    "regression_setup = setup(data = df, target = \"VWAP\", train_size = 0.7)"
   ]
  },
  {
   "cell_type": "code",
   "execution_count": 6,
   "id": "c002011c-c0ca-459a-8d87-87c23bf5d6a8",
   "metadata": {},
   "outputs": [
    {
     "data": {
      "text/html": [],
      "text/plain": [
       "<IPython.core.display.HTML object>"
      ]
     },
     "metadata": {},
     "output_type": "display_data"
    },
    {
     "data": {
      "text/html": [
       "<style type=\"text/css\">\n",
       "#T_79ba9 th {\n",
       "  text-align: left;\n",
       "}\n",
       "#T_79ba9_row0_col0, #T_79ba9_row0_col5, #T_79ba9_row0_col6, #T_79ba9_row1_col0, #T_79ba9_row1_col1, #T_79ba9_row1_col2, #T_79ba9_row1_col3, #T_79ba9_row1_col5, #T_79ba9_row1_col6, #T_79ba9_row2_col0, #T_79ba9_row2_col1, #T_79ba9_row2_col2, #T_79ba9_row2_col3, #T_79ba9_row2_col5, #T_79ba9_row2_col6, #T_79ba9_row3_col0, #T_79ba9_row3_col1, #T_79ba9_row3_col2, #T_79ba9_row3_col3, #T_79ba9_row4_col0, #T_79ba9_row4_col1, #T_79ba9_row4_col2, #T_79ba9_row4_col3, #T_79ba9_row5_col0, #T_79ba9_row5_col1, #T_79ba9_row5_col2, #T_79ba9_row5_col3, #T_79ba9_row5_col5, #T_79ba9_row5_col6, #T_79ba9_row6_col0, #T_79ba9_row6_col1, #T_79ba9_row6_col2, #T_79ba9_row6_col3, #T_79ba9_row6_col4, #T_79ba9_row6_col5, #T_79ba9_row6_col6, #T_79ba9_row7_col0, #T_79ba9_row7_col1, #T_79ba9_row7_col2, #T_79ba9_row7_col3, #T_79ba9_row7_col4, #T_79ba9_row7_col5, #T_79ba9_row7_col6, #T_79ba9_row8_col0, #T_79ba9_row8_col1, #T_79ba9_row8_col2, #T_79ba9_row8_col3, #T_79ba9_row8_col4, #T_79ba9_row8_col5, #T_79ba9_row8_col6, #T_79ba9_row9_col0, #T_79ba9_row9_col1, #T_79ba9_row9_col2, #T_79ba9_row9_col3, #T_79ba9_row9_col4, #T_79ba9_row9_col5, #T_79ba9_row9_col6, #T_79ba9_row10_col0, #T_79ba9_row10_col1, #T_79ba9_row10_col2, #T_79ba9_row10_col3, #T_79ba9_row10_col4, #T_79ba9_row10_col5, #T_79ba9_row10_col6, #T_79ba9_row11_col0, #T_79ba9_row11_col1, #T_79ba9_row11_col2, #T_79ba9_row11_col3, #T_79ba9_row11_col4, #T_79ba9_row11_col5, #T_79ba9_row11_col6, #T_79ba9_row12_col0, #T_79ba9_row12_col1, #T_79ba9_row12_col2, #T_79ba9_row12_col3, #T_79ba9_row12_col4, #T_79ba9_row12_col5, #T_79ba9_row12_col6, #T_79ba9_row13_col0, #T_79ba9_row13_col1, #T_79ba9_row13_col2, #T_79ba9_row13_col3, #T_79ba9_row13_col4, #T_79ba9_row13_col5, #T_79ba9_row13_col6, #T_79ba9_row14_col0, #T_79ba9_row14_col1, #T_79ba9_row14_col2, #T_79ba9_row14_col3, #T_79ba9_row14_col4, #T_79ba9_row14_col5, #T_79ba9_row14_col6, #T_79ba9_row15_col0, #T_79ba9_row15_col1, #T_79ba9_row15_col2, #T_79ba9_row15_col3, #T_79ba9_row15_col4, #T_79ba9_row15_col5, #T_79ba9_row15_col6, #T_79ba9_row16_col0, #T_79ba9_row16_col1, #T_79ba9_row16_col2, #T_79ba9_row16_col3, #T_79ba9_row16_col4, #T_79ba9_row16_col5, #T_79ba9_row16_col6 {\n",
       "  text-align: left;\n",
       "}\n",
       "#T_79ba9_row0_col1, #T_79ba9_row0_col2, #T_79ba9_row0_col3, #T_79ba9_row0_col4, #T_79ba9_row1_col4, #T_79ba9_row2_col4, #T_79ba9_row3_col4, #T_79ba9_row3_col5, #T_79ba9_row3_col6, #T_79ba9_row4_col4, #T_79ba9_row4_col5, #T_79ba9_row4_col6, #T_79ba9_row5_col4 {\n",
       "  text-align: left;\n",
       "  background-color: yellow;\n",
       "}\n",
       "#T_79ba9_row0_col7, #T_79ba9_row1_col7, #T_79ba9_row2_col7, #T_79ba9_row3_col7, #T_79ba9_row4_col7, #T_79ba9_row5_col7, #T_79ba9_row6_col7, #T_79ba9_row7_col7, #T_79ba9_row8_col7, #T_79ba9_row9_col7, #T_79ba9_row11_col7, #T_79ba9_row12_col7, #T_79ba9_row13_col7, #T_79ba9_row15_col7, #T_79ba9_row16_col7 {\n",
       "  text-align: left;\n",
       "  background-color: lightgrey;\n",
       "}\n",
       "#T_79ba9_row10_col7, #T_79ba9_row14_col7 {\n",
       "  text-align: left;\n",
       "  background-color: yellow;\n",
       "  background-color: lightgrey;\n",
       "}\n",
       "</style>\n",
       "<table id=\"T_79ba9\">\n",
       "  <thead>\n",
       "    <tr>\n",
       "      <th class=\"blank level0\" >&nbsp;</th>\n",
       "      <th id=\"T_79ba9_level0_col0\" class=\"col_heading level0 col0\" >Model</th>\n",
       "      <th id=\"T_79ba9_level0_col1\" class=\"col_heading level0 col1\" >MAE</th>\n",
       "      <th id=\"T_79ba9_level0_col2\" class=\"col_heading level0 col2\" >MSE</th>\n",
       "      <th id=\"T_79ba9_level0_col3\" class=\"col_heading level0 col3\" >RMSE</th>\n",
       "      <th id=\"T_79ba9_level0_col4\" class=\"col_heading level0 col4\" >R2</th>\n",
       "      <th id=\"T_79ba9_level0_col5\" class=\"col_heading level0 col5\" >RMSLE</th>\n",
       "      <th id=\"T_79ba9_level0_col6\" class=\"col_heading level0 col6\" >MAPE</th>\n",
       "      <th id=\"T_79ba9_level0_col7\" class=\"col_heading level0 col7\" >TT (Sec)</th>\n",
       "    </tr>\n",
       "  </thead>\n",
       "  <tbody>\n",
       "    <tr>\n",
       "      <th id=\"T_79ba9_level0_row0\" class=\"row_heading level0 row0\" >lar</th>\n",
       "      <td id=\"T_79ba9_row0_col0\" class=\"data row0 col0\" >Least Angle Regression</td>\n",
       "      <td id=\"T_79ba9_row0_col1\" class=\"data row0 col1\" >0.0130</td>\n",
       "      <td id=\"T_79ba9_row0_col2\" class=\"data row0 col2\" >0.0022</td>\n",
       "      <td id=\"T_79ba9_row0_col3\" class=\"data row0 col3\" >0.0463</td>\n",
       "      <td id=\"T_79ba9_row0_col4\" class=\"data row0 col4\" >1.0000</td>\n",
       "      <td id=\"T_79ba9_row0_col5\" class=\"data row0 col5\" >0.0005</td>\n",
       "      <td id=\"T_79ba9_row0_col6\" class=\"data row0 col6\" >0.0003</td>\n",
       "      <td id=\"T_79ba9_row0_col7\" class=\"data row0 col7\" >0.1410</td>\n",
       "    </tr>\n",
       "    <tr>\n",
       "      <th id=\"T_79ba9_level0_row1\" class=\"row_heading level0 row1\" >omp</th>\n",
       "      <td id=\"T_79ba9_row1_col0\" class=\"data row1 col0\" >Orthogonal Matching Pursuit</td>\n",
       "      <td id=\"T_79ba9_row1_col1\" class=\"data row1 col1\" >0.0613</td>\n",
       "      <td id=\"T_79ba9_row1_col2\" class=\"data row1 col2\" >0.0262</td>\n",
       "      <td id=\"T_79ba9_row1_col3\" class=\"data row1 col3\" >0.1616</td>\n",
       "      <td id=\"T_79ba9_row1_col4\" class=\"data row1 col4\" >1.0000</td>\n",
       "      <td id=\"T_79ba9_row1_col5\" class=\"data row1 col5\" >0.0011</td>\n",
       "      <td id=\"T_79ba9_row1_col6\" class=\"data row1 col6\" >0.0008</td>\n",
       "      <td id=\"T_79ba9_row1_col7\" class=\"data row1 col7\" >0.1510</td>\n",
       "    </tr>\n",
       "    <tr>\n",
       "      <th id=\"T_79ba9_level0_row2\" class=\"row_heading level0 row2\" >dt</th>\n",
       "      <td id=\"T_79ba9_row2_col0\" class=\"data row2 col0\" >Decision Tree Regressor</td>\n",
       "      <td id=\"T_79ba9_row2_col1\" class=\"data row2 col1\" >0.0267</td>\n",
       "      <td id=\"T_79ba9_row2_col2\" class=\"data row2 col2\" >0.0091</td>\n",
       "      <td id=\"T_79ba9_row2_col3\" class=\"data row2 col3\" >0.0949</td>\n",
       "      <td id=\"T_79ba9_row2_col4\" class=\"data row2 col4\" >1.0000</td>\n",
       "      <td id=\"T_79ba9_row2_col5\" class=\"data row2 col5\" >0.0006</td>\n",
       "      <td id=\"T_79ba9_row2_col6\" class=\"data row2 col6\" >0.0003</td>\n",
       "      <td id=\"T_79ba9_row2_col7\" class=\"data row2 col7\" >0.2370</td>\n",
       "    </tr>\n",
       "    <tr>\n",
       "      <th id=\"T_79ba9_level0_row3\" class=\"row_heading level0 row3\" >rf</th>\n",
       "      <td id=\"T_79ba9_row3_col0\" class=\"data row3 col0\" >Random Forest Regressor</td>\n",
       "      <td id=\"T_79ba9_row3_col1\" class=\"data row3 col1\" >0.0170</td>\n",
       "      <td id=\"T_79ba9_row3_col2\" class=\"data row3 col2\" >0.0040</td>\n",
       "      <td id=\"T_79ba9_row3_col3\" class=\"data row3 col3\" >0.0629</td>\n",
       "      <td id=\"T_79ba9_row3_col4\" class=\"data row3 col4\" >1.0000</td>\n",
       "      <td id=\"T_79ba9_row3_col5\" class=\"data row3 col5\" >0.0004</td>\n",
       "      <td id=\"T_79ba9_row3_col6\" class=\"data row3 col6\" >0.0002</td>\n",
       "      <td id=\"T_79ba9_row3_col7\" class=\"data row3 col7\" >4.7500</td>\n",
       "    </tr>\n",
       "    <tr>\n",
       "      <th id=\"T_79ba9_level0_row4\" class=\"row_heading level0 row4\" >et</th>\n",
       "      <td id=\"T_79ba9_row4_col0\" class=\"data row4 col0\" >Extra Trees Regressor</td>\n",
       "      <td id=\"T_79ba9_row4_col1\" class=\"data row4 col1\" >0.0148</td>\n",
       "      <td id=\"T_79ba9_row4_col2\" class=\"data row4 col2\" >0.0030</td>\n",
       "      <td id=\"T_79ba9_row4_col3\" class=\"data row4 col3\" >0.0542</td>\n",
       "      <td id=\"T_79ba9_row4_col4\" class=\"data row4 col4\" >1.0000</td>\n",
       "      <td id=\"T_79ba9_row4_col5\" class=\"data row4 col5\" >0.0004</td>\n",
       "      <td id=\"T_79ba9_row4_col6\" class=\"data row4 col6\" >0.0002</td>\n",
       "      <td id=\"T_79ba9_row4_col7\" class=\"data row4 col7\" >3.1340</td>\n",
       "    </tr>\n",
       "    <tr>\n",
       "      <th id=\"T_79ba9_level0_row5\" class=\"row_heading level0 row5\" >gbr</th>\n",
       "      <td id=\"T_79ba9_row5_col0\" class=\"data row5 col0\" >Gradient Boosting Regressor</td>\n",
       "      <td id=\"T_79ba9_row5_col1\" class=\"data row5 col1\" >0.1566</td>\n",
       "      <td id=\"T_79ba9_row5_col2\" class=\"data row5 col2\" >0.1115</td>\n",
       "      <td id=\"T_79ba9_row5_col3\" class=\"data row5 col3\" >0.3337</td>\n",
       "      <td id=\"T_79ba9_row5_col4\" class=\"data row5 col4\" >1.0000</td>\n",
       "      <td id=\"T_79ba9_row5_col5\" class=\"data row5 col5\" >0.0060</td>\n",
       "      <td id=\"T_79ba9_row5_col6\" class=\"data row5 col6\" >0.0063</td>\n",
       "      <td id=\"T_79ba9_row5_col7\" class=\"data row5 col7\" >2.3610</td>\n",
       "    </tr>\n",
       "    <tr>\n",
       "      <th id=\"T_79ba9_level0_row6\" class=\"row_heading level0 row6\" >lightgbm</th>\n",
       "      <td id=\"T_79ba9_row6_col0\" class=\"data row6 col0\" >Light Gradient Boosting Machine</td>\n",
       "      <td id=\"T_79ba9_row6_col1\" class=\"data row6 col1\" >0.2927</td>\n",
       "      <td id=\"T_79ba9_row6_col2\" class=\"data row6 col2\" >3.3466</td>\n",
       "      <td id=\"T_79ba9_row6_col3\" class=\"data row6 col3\" >1.7610</td>\n",
       "      <td id=\"T_79ba9_row6_col4\" class=\"data row6 col4\" >0.9998</td>\n",
       "      <td id=\"T_79ba9_row6_col5\" class=\"data row6 col5\" >0.0393</td>\n",
       "      <td id=\"T_79ba9_row6_col6\" class=\"data row6 col6\" >0.0092</td>\n",
       "      <td id=\"T_79ba9_row6_col7\" class=\"data row6 col7\" >0.2740</td>\n",
       "    </tr>\n",
       "    <tr>\n",
       "      <th id=\"T_79ba9_level0_row7\" class=\"row_heading level0 row7\" >ada</th>\n",
       "      <td id=\"T_79ba9_row7_col0\" class=\"data row7 col0\" >AdaBoost Regressor</td>\n",
       "      <td id=\"T_79ba9_row7_col1\" class=\"data row7 col1\" >2.8396</td>\n",
       "      <td id=\"T_79ba9_row7_col2\" class=\"data row7 col2\" >21.5680</td>\n",
       "      <td id=\"T_79ba9_row7_col3\" class=\"data row7 col3\" >4.5719</td>\n",
       "      <td id=\"T_79ba9_row7_col4\" class=\"data row7 col4\" >0.9986</td>\n",
       "      <td id=\"T_79ba9_row7_col5\" class=\"data row7 col5\" >0.1755</td>\n",
       "      <td id=\"T_79ba9_row7_col6\" class=\"data row7 col6\" >0.2936</td>\n",
       "      <td id=\"T_79ba9_row7_col7\" class=\"data row7 col7\" >0.8310</td>\n",
       "    </tr>\n",
       "    <tr>\n",
       "      <th id=\"T_79ba9_level0_row8\" class=\"row_heading level0 row8\" >lr</th>\n",
       "      <td id=\"T_79ba9_row8_col0\" class=\"data row8 col0\" >Linear Regression</td>\n",
       "      <td id=\"T_79ba9_row8_col1\" class=\"data row8 col1\" >0.0529</td>\n",
       "      <td id=\"T_79ba9_row8_col2\" class=\"data row8 col2\" >107.3018</td>\n",
       "      <td id=\"T_79ba9_row8_col3\" class=\"data row8 col3\" >3.3170</td>\n",
       "      <td id=\"T_79ba9_row8_col4\" class=\"data row8 col4\" >0.9929</td>\n",
       "      <td id=\"T_79ba9_row8_col5\" class=\"data row8 col5\" >0.0042</td>\n",
       "      <td id=\"T_79ba9_row8_col6\" class=\"data row8 col6\" >0.0005</td>\n",
       "      <td id=\"T_79ba9_row8_col7\" class=\"data row8 col7\" >0.5410</td>\n",
       "    </tr>\n",
       "    <tr>\n",
       "      <th id=\"T_79ba9_level0_row9\" class=\"row_heading level0 row9\" >br</th>\n",
       "      <td id=\"T_79ba9_row9_col0\" class=\"data row9 col0\" >Bayesian Ridge</td>\n",
       "      <td id=\"T_79ba9_row9_col1\" class=\"data row9 col1\" >0.0586</td>\n",
       "      <td id=\"T_79ba9_row9_col2\" class=\"data row9 col2\" >138.8444</td>\n",
       "      <td id=\"T_79ba9_row9_col3\" class=\"data row9 col3\" >3.7675</td>\n",
       "      <td id=\"T_79ba9_row9_col4\" class=\"data row9 col4\" >0.9908</td>\n",
       "      <td id=\"T_79ba9_row9_col5\" class=\"data row9 col5\" >0.0045</td>\n",
       "      <td id=\"T_79ba9_row9_col6\" class=\"data row9 col6\" >0.0007</td>\n",
       "      <td id=\"T_79ba9_row9_col7\" class=\"data row9 col7\" >0.1540</td>\n",
       "    </tr>\n",
       "    <tr>\n",
       "      <th id=\"T_79ba9_level0_row10\" class=\"row_heading level0 row10\" >ridge</th>\n",
       "      <td id=\"T_79ba9_row10_col0\" class=\"data row10 col0\" >Ridge Regression</td>\n",
       "      <td id=\"T_79ba9_row10_col1\" class=\"data row10 col1\" >0.1052</td>\n",
       "      <td id=\"T_79ba9_row10_col2\" class=\"data row10 col2\" >569.7587</td>\n",
       "      <td id=\"T_79ba9_row10_col3\" class=\"data row10 col3\" >7.5896</td>\n",
       "      <td id=\"T_79ba9_row10_col4\" class=\"data row10 col4\" >0.9623</td>\n",
       "      <td id=\"T_79ba9_row10_col5\" class=\"data row10 col5\" >0.0052</td>\n",
       "      <td id=\"T_79ba9_row10_col6\" class=\"data row10 col6\" >0.0010</td>\n",
       "      <td id=\"T_79ba9_row10_col7\" class=\"data row10 col7\" >0.1390</td>\n",
       "    </tr>\n",
       "    <tr>\n",
       "      <th id=\"T_79ba9_level0_row11\" class=\"row_heading level0 row11\" >knn</th>\n",
       "      <td id=\"T_79ba9_row11_col0\" class=\"data row11 col0\" >K Neighbors Regressor</td>\n",
       "      <td id=\"T_79ba9_row11_col1\" class=\"data row11 col1\" >20.7955</td>\n",
       "      <td id=\"T_79ba9_row11_col2\" class=\"data row11 col2\" >1662.2620</td>\n",
       "      <td id=\"T_79ba9_row11_col3\" class=\"data row11 col3\" >40.7647</td>\n",
       "      <td id=\"T_79ba9_row11_col4\" class=\"data row11 col4\" >0.8904</td>\n",
       "      <td id=\"T_79ba9_row11_col5\" class=\"data row11 col5\" >1.2584</td>\n",
       "      <td id=\"T_79ba9_row11_col6\" class=\"data row11 col6\" >4.8669</td>\n",
       "      <td id=\"T_79ba9_row11_col7\" class=\"data row11 col7\" >0.1650</td>\n",
       "    </tr>\n",
       "    <tr>\n",
       "      <th id=\"T_79ba9_level0_row12\" class=\"row_heading level0 row12\" >en</th>\n",
       "      <td id=\"T_79ba9_row12_col0\" class=\"data row12 col0\" >Elastic Net</td>\n",
       "      <td id=\"T_79ba9_row12_col1\" class=\"data row12 col1\" >0.4471</td>\n",
       "      <td id=\"T_79ba9_row12_col2\" class=\"data row12 col2\" >9832.6201</td>\n",
       "      <td id=\"T_79ba9_row12_col3\" class=\"data row12 col3\" >31.4912</td>\n",
       "      <td id=\"T_79ba9_row12_col4\" class=\"data row12 col4\" >0.3500</td>\n",
       "      <td id=\"T_79ba9_row12_col5\" class=\"data row12 col5\" >0.0138</td>\n",
       "      <td id=\"T_79ba9_row12_col6\" class=\"data row12 col6\" >0.0107</td>\n",
       "      <td id=\"T_79ba9_row12_col7\" class=\"data row12 col7\" >0.2150</td>\n",
       "    </tr>\n",
       "    <tr>\n",
       "      <th id=\"T_79ba9_level0_row13\" class=\"row_heading level0 row13\" >llar</th>\n",
       "      <td id=\"T_79ba9_row13_col0\" class=\"data row13 col0\" >Lasso Least Angle Regression</td>\n",
       "      <td id=\"T_79ba9_row13_col1\" class=\"data row13 col1\" >100.1947</td>\n",
       "      <td id=\"T_79ba9_row13_col2\" class=\"data row13 col2\" >15170.2957</td>\n",
       "      <td id=\"T_79ba9_row13_col3\" class=\"data row13 col3\" >123.1641</td>\n",
       "      <td id=\"T_79ba9_row13_col4\" class=\"data row13 col4\" >-0.0001</td>\n",
       "      <td id=\"T_79ba9_row13_col5\" class=\"data row13 col5\" >2.6039</td>\n",
       "      <td id=\"T_79ba9_row13_col6\" class=\"data row13 col6\" >31.5455</td>\n",
       "      <td id=\"T_79ba9_row13_col7\" class=\"data row13 col7\" >0.1420</td>\n",
       "    </tr>\n",
       "    <tr>\n",
       "      <th id=\"T_79ba9_level0_row14\" class=\"row_heading level0 row14\" >dummy</th>\n",
       "      <td id=\"T_79ba9_row14_col0\" class=\"data row14 col0\" >Dummy Regressor</td>\n",
       "      <td id=\"T_79ba9_row14_col1\" class=\"data row14 col1\" >100.1947</td>\n",
       "      <td id=\"T_79ba9_row14_col2\" class=\"data row14 col2\" >15170.2949</td>\n",
       "      <td id=\"T_79ba9_row14_col3\" class=\"data row14 col3\" >123.1641</td>\n",
       "      <td id=\"T_79ba9_row14_col4\" class=\"data row14 col4\" >-0.0001</td>\n",
       "      <td id=\"T_79ba9_row14_col5\" class=\"data row14 col5\" >2.6039</td>\n",
       "      <td id=\"T_79ba9_row14_col6\" class=\"data row14 col6\" >31.5455</td>\n",
       "      <td id=\"T_79ba9_row14_col7\" class=\"data row14 col7\" >0.1390</td>\n",
       "    </tr>\n",
       "    <tr>\n",
       "      <th id=\"T_79ba9_level0_row15\" class=\"row_heading level0 row15\" >lasso</th>\n",
       "      <td id=\"T_79ba9_row15_col0\" class=\"data row15 col0\" >Lasso Regression</td>\n",
       "      <td id=\"T_79ba9_row15_col1\" class=\"data row15 col1\" >1.5825</td>\n",
       "      <td id=\"T_79ba9_row15_col2\" class=\"data row15 col2\" >153071.7071</td>\n",
       "      <td id=\"T_79ba9_row15_col3\" class=\"data row15 col3\" >123.8646</td>\n",
       "      <td id=\"T_79ba9_row15_col4\" class=\"data row15 col4\" >-9.1194</td>\n",
       "      <td id=\"T_79ba9_row15_col5\" class=\"data row15 col5\" >0.0161</td>\n",
       "      <td id=\"T_79ba9_row15_col6\" class=\"data row15 col6\" >0.0219</td>\n",
       "      <td id=\"T_79ba9_row15_col7\" class=\"data row15 col7\" >0.2440</td>\n",
       "    </tr>\n",
       "    <tr>\n",
       "      <th id=\"T_79ba9_level0_row16\" class=\"row_heading level0 row16\" >par</th>\n",
       "      <td id=\"T_79ba9_row16_col0\" class=\"data row16 col0\" >Passive Aggressive Regressor</td>\n",
       "      <td id=\"T_79ba9_row16_col1\" class=\"data row16 col1\" >3206467.4826</td>\n",
       "      <td id=\"T_79ba9_row16_col2\" class=\"data row16 col2\" >686491282414127360.0000</td>\n",
       "      <td id=\"T_79ba9_row16_col3\" class=\"data row16 col3\" >262009788.0308</td>\n",
       "      <td id=\"T_79ba9_row16_col4\" class=\"data row16 col4\" >-45383298009932.9688</td>\n",
       "      <td id=\"T_79ba9_row16_col5\" class=\"data row16 col5\" >0.0976</td>\n",
       "      <td id=\"T_79ba9_row16_col6\" class=\"data row16 col6\" >29478.0422</td>\n",
       "      <td id=\"T_79ba9_row16_col7\" class=\"data row16 col7\" >0.1580</td>\n",
       "    </tr>\n",
       "  </tbody>\n",
       "</table>\n"
      ],
      "text/plain": [
       "<pandas.io.formats.style.Styler at 0x7fb238511f10>"
      ]
     },
     "metadata": {},
     "output_type": "display_data"
    },
    {
     "data": {
      "application/vnd.jupyter.widget-view+json": {
       "model_id": "",
       "version_major": 2,
       "version_minor": 0
      },
      "text/plain": [
       "Processing:   0%|          | 0/77 [00:00<?, ?it/s]"
      ]
     },
     "metadata": {},
     "output_type": "display_data"
    }
   ],
   "source": [
    "best = compare_models()"
   ]
  },
  {
   "cell_type": "code",
   "execution_count": 7,
   "id": "34595bbf-8701-4e5a-addd-96384a357c09",
   "metadata": {},
   "outputs": [],
   "source": [
    "#Appending data of regression in errors list and pulling RMSE values"
   ]
  },
  {
   "cell_type": "code",
   "execution_count": 8,
   "id": "4c96280f-1ad0-400c-9c35-792e12a4e0bc",
   "metadata": {},
   "outputs": [
    {
     "name": "stdout",
     "output_type": "stream",
     "text": [
      "EURCHF.csv\n"
     ]
    },
    {
     "data": {
      "text/html": [
       "<style type=\"text/css\">\n",
       "</style>\n",
       "<table id=\"T_847e6\">\n",
       "  <thead>\n",
       "    <tr>\n",
       "      <th class=\"blank level0\" >&nbsp;</th>\n",
       "      <th id=\"T_847e6_level0_col0\" class=\"col_heading level0 col0\" >Model</th>\n",
       "      <th id=\"T_847e6_level0_col1\" class=\"col_heading level0 col1\" >MAE</th>\n",
       "      <th id=\"T_847e6_level0_col2\" class=\"col_heading level0 col2\" >MSE</th>\n",
       "      <th id=\"T_847e6_level0_col3\" class=\"col_heading level0 col3\" >RMSE</th>\n",
       "      <th id=\"T_847e6_level0_col4\" class=\"col_heading level0 col4\" >R2</th>\n",
       "      <th id=\"T_847e6_level0_col5\" class=\"col_heading level0 col5\" >RMSLE</th>\n",
       "      <th id=\"T_847e6_level0_col6\" class=\"col_heading level0 col6\" >MAPE</th>\n",
       "    </tr>\n",
       "  </thead>\n",
       "  <tbody>\n",
       "    <tr>\n",
       "      <th id=\"T_847e6_level0_row0\" class=\"row_heading level0 row0\" >0</th>\n",
       "      <td id=\"T_847e6_row0_col0\" class=\"data row0 col0\" >Least Angle Regression</td>\n",
       "      <td id=\"T_847e6_row0_col1\" class=\"data row0 col1\" >0.0006</td>\n",
       "      <td id=\"T_847e6_row0_col2\" class=\"data row0 col2\" >0.0000</td>\n",
       "      <td id=\"T_847e6_row0_col3\" class=\"data row0 col3\" >0.0014</td>\n",
       "      <td id=\"T_847e6_row0_col4\" class=\"data row0 col4\" >0.9998</td>\n",
       "      <td id=\"T_847e6_row0_col5\" class=\"data row0 col5\" >0.0007</td>\n",
       "      <td id=\"T_847e6_row0_col6\" class=\"data row0 col6\" >0.0006</td>\n",
       "    </tr>\n",
       "  </tbody>\n",
       "</table>\n"
      ],
      "text/plain": [
       "<pandas.io.formats.style.Styler at 0x7fb26efe9df0>"
      ]
     },
     "metadata": {},
     "output_type": "display_data"
    },
    {
     "name": "stdout",
     "output_type": "stream",
     "text": [
      "\n",
      "EURHUF.csv\n"
     ]
    },
    {
     "data": {
      "text/html": [
       "<style type=\"text/css\">\n",
       "</style>\n",
       "<table id=\"T_0e75f\">\n",
       "  <thead>\n",
       "    <tr>\n",
       "      <th class=\"blank level0\" >&nbsp;</th>\n",
       "      <th id=\"T_0e75f_level0_col0\" class=\"col_heading level0 col0\" >Model</th>\n",
       "      <th id=\"T_0e75f_level0_col1\" class=\"col_heading level0 col1\" >MAE</th>\n",
       "      <th id=\"T_0e75f_level0_col2\" class=\"col_heading level0 col2\" >MSE</th>\n",
       "      <th id=\"T_0e75f_level0_col3\" class=\"col_heading level0 col3\" >RMSE</th>\n",
       "      <th id=\"T_0e75f_level0_col4\" class=\"col_heading level0 col4\" >R2</th>\n",
       "      <th id=\"T_0e75f_level0_col5\" class=\"col_heading level0 col5\" >RMSLE</th>\n",
       "      <th id=\"T_0e75f_level0_col6\" class=\"col_heading level0 col6\" >MAPE</th>\n",
       "    </tr>\n",
       "  </thead>\n",
       "  <tbody>\n",
       "    <tr>\n",
       "      <th id=\"T_0e75f_level0_row0\" class=\"row_heading level0 row0\" >0</th>\n",
       "      <td id=\"T_0e75f_row0_col0\" class=\"data row0 col0\" >Least Angle Regression</td>\n",
       "      <td id=\"T_0e75f_row0_col1\" class=\"data row0 col1\" >0.0465</td>\n",
       "      <td id=\"T_0e75f_row0_col2\" class=\"data row0 col2\" >0.0094</td>\n",
       "      <td id=\"T_0e75f_row0_col3\" class=\"data row0 col3\" >0.0970</td>\n",
       "      <td id=\"T_0e75f_row0_col4\" class=\"data row0 col4\" >1.0000</td>\n",
       "      <td id=\"T_0e75f_row0_col5\" class=\"data row0 col5\" >0.0003</td>\n",
       "      <td id=\"T_0e75f_row0_col6\" class=\"data row0 col6\" >0.0001</td>\n",
       "    </tr>\n",
       "  </tbody>\n",
       "</table>\n"
      ],
      "text/plain": [
       "<pandas.io.formats.style.Styler at 0x7fb2381434c0>"
      ]
     },
     "metadata": {},
     "output_type": "display_data"
    },
    {
     "name": "stdout",
     "output_type": "stream",
     "text": [
      "\n",
      "USDJPY.csv\n"
     ]
    },
    {
     "data": {
      "text/html": [
       "<style type=\"text/css\">\n",
       "</style>\n",
       "<table id=\"T_b5743\">\n",
       "  <thead>\n",
       "    <tr>\n",
       "      <th class=\"blank level0\" >&nbsp;</th>\n",
       "      <th id=\"T_b5743_level0_col0\" class=\"col_heading level0 col0\" >Model</th>\n",
       "      <th id=\"T_b5743_level0_col1\" class=\"col_heading level0 col1\" >MAE</th>\n",
       "      <th id=\"T_b5743_level0_col2\" class=\"col_heading level0 col2\" >MSE</th>\n",
       "      <th id=\"T_b5743_level0_col3\" class=\"col_heading level0 col3\" >RMSE</th>\n",
       "      <th id=\"T_b5743_level0_col4\" class=\"col_heading level0 col4\" >R2</th>\n",
       "      <th id=\"T_b5743_level0_col5\" class=\"col_heading level0 col5\" >RMSLE</th>\n",
       "      <th id=\"T_b5743_level0_col6\" class=\"col_heading level0 col6\" >MAPE</th>\n",
       "    </tr>\n",
       "  </thead>\n",
       "  <tbody>\n",
       "    <tr>\n",
       "      <th id=\"T_b5743_level0_row0\" class=\"row_heading level0 row0\" >0</th>\n",
       "      <td id=\"T_b5743_row0_col0\" class=\"data row0 col0\" >Least Angle Regression</td>\n",
       "      <td id=\"T_b5743_row0_col1\" class=\"data row0 col1\" >0.0153</td>\n",
       "      <td id=\"T_b5743_row0_col2\" class=\"data row0 col2\" >0.0010</td>\n",
       "      <td id=\"T_b5743_row0_col3\" class=\"data row0 col3\" >0.0319</td>\n",
       "      <td id=\"T_b5743_row0_col4\" class=\"data row0 col4\" >1.0000</td>\n",
       "      <td id=\"T_b5743_row0_col5\" class=\"data row0 col5\" >0.0003</td>\n",
       "      <td id=\"T_b5743_row0_col6\" class=\"data row0 col6\" >0.0001</td>\n",
       "    </tr>\n",
       "  </tbody>\n",
       "</table>\n"
      ],
      "text/plain": [
       "<pandas.io.formats.style.Styler at 0x7fb26f5969d0>"
      ]
     },
     "metadata": {},
     "output_type": "display_data"
    },
    {
     "name": "stdout",
     "output_type": "stream",
     "text": [
      "\n",
      "EURNOK.csv\n"
     ]
    },
    {
     "data": {
      "text/html": [
       "<style type=\"text/css\">\n",
       "</style>\n",
       "<table id=\"T_259ba\">\n",
       "  <thead>\n",
       "    <tr>\n",
       "      <th class=\"blank level0\" >&nbsp;</th>\n",
       "      <th id=\"T_259ba_level0_col0\" class=\"col_heading level0 col0\" >Model</th>\n",
       "      <th id=\"T_259ba_level0_col1\" class=\"col_heading level0 col1\" >MAE</th>\n",
       "      <th id=\"T_259ba_level0_col2\" class=\"col_heading level0 col2\" >MSE</th>\n",
       "      <th id=\"T_259ba_level0_col3\" class=\"col_heading level0 col3\" >RMSE</th>\n",
       "      <th id=\"T_259ba_level0_col4\" class=\"col_heading level0 col4\" >R2</th>\n",
       "      <th id=\"T_259ba_level0_col5\" class=\"col_heading level0 col5\" >RMSLE</th>\n",
       "      <th id=\"T_259ba_level0_col6\" class=\"col_heading level0 col6\" >MAPE</th>\n",
       "    </tr>\n",
       "  </thead>\n",
       "  <tbody>\n",
       "    <tr>\n",
       "      <th id=\"T_259ba_level0_row0\" class=\"row_heading level0 row0\" >0</th>\n",
       "      <td id=\"T_259ba_row0_col0\" class=\"data row0 col0\" >Least Angle Regression</td>\n",
       "      <td id=\"T_259ba_row0_col1\" class=\"data row0 col1\" >0.0017</td>\n",
       "      <td id=\"T_259ba_row0_col2\" class=\"data row0 col2\" >0.0000</td>\n",
       "      <td id=\"T_259ba_row0_col3\" class=\"data row0 col3\" >0.0050</td>\n",
       "      <td id=\"T_259ba_row0_col4\" class=\"data row0 col4\" >1.0000</td>\n",
       "      <td id=\"T_259ba_row0_col5\" class=\"data row0 col5\" >0.0005</td>\n",
       "      <td id=\"T_259ba_row0_col6\" class=\"data row0 col6\" >0.0002</td>\n",
       "    </tr>\n",
       "  </tbody>\n",
       "</table>\n"
      ],
      "text/plain": [
       "<pandas.io.formats.style.Styler at 0x7fb2385f8610>"
      ]
     },
     "metadata": {},
     "output_type": "display_data"
    },
    {
     "name": "stdout",
     "output_type": "stream",
     "text": [
      "\n",
      "USDCAD.csv\n"
     ]
    },
    {
     "data": {
      "text/html": [
       "<style type=\"text/css\">\n",
       "</style>\n",
       "<table id=\"T_f14cd\">\n",
       "  <thead>\n",
       "    <tr>\n",
       "      <th class=\"blank level0\" >&nbsp;</th>\n",
       "      <th id=\"T_f14cd_level0_col0\" class=\"col_heading level0 col0\" >Model</th>\n",
       "      <th id=\"T_f14cd_level0_col1\" class=\"col_heading level0 col1\" >MAE</th>\n",
       "      <th id=\"T_f14cd_level0_col2\" class=\"col_heading level0 col2\" >MSE</th>\n",
       "      <th id=\"T_f14cd_level0_col3\" class=\"col_heading level0 col3\" >RMSE</th>\n",
       "      <th id=\"T_f14cd_level0_col4\" class=\"col_heading level0 col4\" >R2</th>\n",
       "      <th id=\"T_f14cd_level0_col5\" class=\"col_heading level0 col5\" >RMSLE</th>\n",
       "      <th id=\"T_f14cd_level0_col6\" class=\"col_heading level0 col6\" >MAPE</th>\n",
       "    </tr>\n",
       "  </thead>\n",
       "  <tbody>\n",
       "    <tr>\n",
       "      <th id=\"T_f14cd_level0_row0\" class=\"row_heading level0 row0\" >0</th>\n",
       "      <td id=\"T_f14cd_row0_col0\" class=\"data row0 col0\" >Least Angle Regression</td>\n",
       "      <td id=\"T_f14cd_row0_col1\" class=\"data row0 col1\" >0.0007</td>\n",
       "      <td id=\"T_f14cd_row0_col2\" class=\"data row0 col2\" >0.0000</td>\n",
       "      <td id=\"T_f14cd_row0_col3\" class=\"data row0 col3\" >0.0012</td>\n",
       "      <td id=\"T_f14cd_row0_col4\" class=\"data row0 col4\" >0.9999</td>\n",
       "      <td id=\"T_f14cd_row0_col5\" class=\"data row0 col5\" >0.0006</td>\n",
       "      <td id=\"T_f14cd_row0_col6\" class=\"data row0 col6\" >0.0006</td>\n",
       "    </tr>\n",
       "  </tbody>\n",
       "</table>\n"
      ],
      "text/plain": [
       "<pandas.io.formats.style.Styler at 0x7fb2385f8e20>"
      ]
     },
     "metadata": {},
     "output_type": "display_data"
    },
    {
     "name": "stdout",
     "output_type": "stream",
     "text": [
      "\n"
     ]
    }
   ],
   "source": [
    "errors = []\n",
    "\n",
    "for i, df_ in enumerate(df_list):\n",
    "    print(csv_files[i])\n",
    "    predict_model(best, data = df_)\n",
    "    errors.append((csv_files[i][:-4], pull()[\"RMSE\"][0]))\n",
    "    print()"
   ]
  },
  {
   "cell_type": "code",
   "execution_count": 9,
   "id": "548ec59c-13b2-49db-8945-53b4d7b9ecd4",
   "metadata": {},
   "outputs": [],
   "source": [
    "errors_order = sorted(errors, key = lambda a: a[1])"
   ]
  },
  {
   "cell_type": "code",
   "execution_count": 10,
   "id": "df79b135-12b8-4d66-832b-dd7ed128af97",
   "metadata": {},
   "outputs": [
    {
     "data": {
      "text/plain": [
       "['Forecastable',\n",
       " 'Forecastable',\n",
       " 'Partially Forecastable',\n",
       " 'Non - Forecastable',\n",
       " 'Non - Forecastable']"
      ]
     },
     "execution_count": 10,
     "metadata": {},
     "output_type": "execute_result"
    }
   ],
   "source": [
    "classes = [*[\"Forecastable\"]*2, *[\"Partially Forecastable\"]*1, *[\"Non - Forecastable\"]*2]\n",
    "classes"
   ]
  },
  {
   "cell_type": "code",
   "execution_count": 14,
   "id": "0002ba3d-7cf5-462c-8be4-f6b754987e90",
   "metadata": {},
   "outputs": [],
   "source": [
    "final_result = {\"Currency Pairs\": [], \"Errors\": [], \"Classes\": []}\n",
    "\n",
    "for i in range(5):\n",
    "    final_result[\"Currency Pairs\"].append(errors_order[i][0])\n",
    "    final_result[\"Errors\"].append(errors_order[i][1])\n",
    "    final_result[\"Classes\"].append(classes[i])\n",
    "    \n",
    "pd.DataFrame(final_result).to_csv(\"/Users/nikitaakenkre/Desktop/NYU Coursework/DE/Final Project/Classification Table.csv\") "
   ]
  }
 ],
 "metadata": {
  "kernelspec": {
   "display_name": "Python 3 (ipykernel)",
   "language": "python",
   "name": "python3"
  },
  "language_info": {
   "codemirror_mode": {
    "name": "ipython",
    "version": 3
   },
   "file_extension": ".py",
   "mimetype": "text/x-python",
   "name": "python",
   "nbconvert_exporter": "python",
   "pygments_lexer": "ipython3",
   "version": "3.9.13"
  }
 },
 "nbformat": 4,
 "nbformat_minor": 5
}
